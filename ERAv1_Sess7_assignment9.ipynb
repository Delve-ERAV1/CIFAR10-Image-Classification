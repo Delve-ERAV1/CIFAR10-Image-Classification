{
  "nbformat": 4,
  "nbformat_minor": 0,
  "metadata": {
    "colab": {
      "provenance": [],
      "gpuType": "T4"
    },
    "kernelspec": {
      "name": "python3",
      "display_name": "Python 3"
    },
    "language_info": {
      "name": "python"
    },
    "accelerator": "GPU"
  },
  "cells": [
    {
      "cell_type": "code",
      "source": [
        "%cd /content/drive/MyDrive/ERAv1/S9"
      ],
      "metadata": {
        "colab": {
          "base_uri": "https://localhost:8080/"
        },
        "id": "CsccJUSbCfar",
        "outputId": "8586727f-f68d-452e-8ad7-3a24a3b23c19"
      },
      "execution_count": 1,
      "outputs": [
        {
          "output_type": "stream",
          "name": "stdout",
          "text": [
            "/content/drive/MyDrive/ERAv1/S9\n"
          ]
        }
      ]
    },
    {
      "cell_type": "code",
      "source": [
        "from google.colab import drive\n",
        "drive.mount('/content/drive')"
      ],
      "metadata": {
        "colab": {
          "base_uri": "https://localhost:8080/"
        },
        "id": "e5s4-_Vs7uyc",
        "outputId": "c6faa3c2-82c8-4ed1-d864-a230f3d9ecfb"
      },
      "execution_count": 2,
      "outputs": [
        {
          "output_type": "stream",
          "name": "stdout",
          "text": [
            "Mounted at /content/drive\n"
          ]
        }
      ]
    },
    {
      "cell_type": "code",
      "source": [
        "! pip install -U git+https://github.com/albu/albumentations --no-cache-dir\n",
        "! pip install torchsummary"
      ],
      "metadata": {
        "id": "0ECMjTrVwD7K"
      },
      "execution_count": null,
      "outputs": []
    },
    {
      "cell_type": "code",
      "source": [
        "import torchvision\n",
        "from utils.utils import *\n",
        "from pprint import pprint\n",
        "import torch.optim as optim\n",
        "from model.model import Net\n",
        "from utils.test import test\n",
        "from utils.train import train\n",
        "from torch.optim.lr_scheduler import StepLR, OneCycleLR\n",
        "from augment.augment import get_train_transform, get_test_transform\n",
        "\n",
        "%matplotlib inline"
      ],
      "metadata": {
        "id": "pOoFhCY6LL9w"
      },
      "execution_count": 2,
      "outputs": []
    },
    {
      "cell_type": "markdown",
      "metadata": {
        "id": "ZdMZHHFKeacM"
      },
      "source": [
        "# Dataset and Creating Train/Test Split"
      ]
    },
    {
      "cell_type": "code",
      "source": [
        "trainloader = get_loader(transform=None)\n",
        "mean, std = get_stats(trainloader)\n",
        "denorm = UnNormalize(mean, std)"
      ],
      "metadata": {
        "colab": {
          "base_uri": "https://localhost:8080/"
        },
        "id": "wgfi0o03xugV",
        "outputId": "58875878-c327-420b-c8f1-58db12587c3f"
      },
      "execution_count": 3,
      "outputs": [
        {
          "output_type": "stream",
          "name": "stdout",
          "text": [
            "Files already downloaded and verified\n",
            "[Train]\n",
            " - Numpy Shape: (50000, 32, 32, 3)\n",
            " - Tensor Shape: (50000, 32, 32, 3)\n",
            " - min: 0\n",
            " - max: 255\n",
            "\n",
            "Dataset Mean - [0.49139968 0.48215841 0.44653091]\n",
            "Dataset Std - [0.24703223 0.24348513 0.26158784] \n"
          ]
        }
      ]
    },
    {
      "cell_type": "markdown",
      "metadata": {
        "id": "lNzsUZZIediC"
      },
      "source": [
        "# Dataloader Arguments & Test/Train Dataloaders\n"
      ]
    },
    {
      "cell_type": "code",
      "source": [
        "train_transform = get_train_transform(mean, std)\n",
        "test_transform = get_test_transform(mean, std)\n",
        "\n",
        "trainloader = get_loader(transform=train_transform)\n",
        "testloader = get_loader(transform=test_transform, train=False)"
      ],
      "metadata": {
        "id": "idigsLG_xcWR",
        "colab": {
          "base_uri": "https://localhost:8080/"
        },
        "outputId": "b5a8d4bd-eabb-42ac-9241-63c35372bb3f"
      },
      "execution_count": 4,
      "outputs": [
        {
          "output_type": "stream",
          "name": "stdout",
          "text": [
            "Files already downloaded and verified\n",
            "Files already downloaded and verified\n"
          ]
        }
      ]
    },
    {
      "cell_type": "code",
      "source": [
        "device = get_device()\n",
        "config = process_config(\"utils/config.yaml\")\n",
        "pprint(config)"
      ],
      "metadata": {
        "colab": {
          "base_uri": "https://localhost:8080/"
        },
        "id": "lv9J6rQozu-3",
        "outputId": "b7de104d-c742-4128-fd2b-a60ea3438ca3"
      },
      "execution_count": 5,
      "outputs": [
        {
          "output_type": "stream",
          "name": "stdout",
          "text": [
            "CUDA Available? True\n",
            " Loading Configuration File\n",
            "{'data_loader': {'args': {'batch_size': 256,\n",
            "                          'num_workers': 2,\n",
            "                          'pin_memory': True},\n",
            "                 'classes': ['plane',\n",
            "                             'car',\n",
            "                             'bird',\n",
            "                             'cat',\n",
            "                             'deer',\n",
            "                             'dog',\n",
            "                             'frog',\n",
            "                             'horse',\n",
            "                             'ship',\n",
            "                             'truck']},\n",
            " 'model_params': {'dropout': 0.04,\n",
            "                  'experiment_name': 'cifar10_image_classification',\n",
            "                  'model_dir': './model/',\n",
            "                  'seed': 42},\n",
            " 'optimizer': {'args': {'lr': 0.01}, 'type': 'optim.Adam'},\n",
            " 'training_params': {'epochs': 120}}\n"
          ]
        }
      ]
    },
    {
      "cell_type": "code",
      "source": [
        "classes = config[\"data_loader\"][\"classes\"]\n",
        "batch_size = config[\"data_loader\"]['args'][\"batch_size\"]\n",
        "num_workers = config[\"data_loader\"]['args'][\"num_workers\"]\n",
        "dropout = config[\"model_params\"][\"dropout\"]\n",
        "seed = config[\"model_params\"][\"seed\"]\n",
        "epochs = config[\"training_params\"][\"epochs\"]"
      ],
      "metadata": {
        "id": "KqUagSHXXA1-"
      },
      "execution_count": 6,
      "outputs": []
    },
    {
      "cell_type": "code",
      "source": [
        "# get some random training images\n",
        "dataiter = iter(trainloader)\n",
        "images, labels = next(dataiter)\n",
        "\n",
        "# show images\n",
        "imshow(torchvision.utils.make_grid(images))\n",
        "# print labels\n",
        "print(' '.join('%5s' % classes[labels[j]] for j in range(4)))"
      ],
      "metadata": {
        "colab": {
          "base_uri": "https://localhost:8080/",
          "height": 470
        },
        "id": "Ktdl7TRJzjSa",
        "outputId": "26ed8753-bfd4-4627-b0cf-1b9cb4e7f405"
      },
      "execution_count": 7,
      "outputs": [
        {
          "output_type": "stream",
          "name": "stderr",
          "text": [
            "WARNING:matplotlib.image:Clipping input data to the valid range for imshow with RGB data ([0..1] for floats or [0..255] for integers).\n"
          ]
        },
        {
          "output_type": "stream",
          "name": "stdout",
          "text": [
            "  car truck  frog truck\n"
          ]
        },
        {
          "output_type": "display_data",
          "data": {
            "text/plain": [
              "<Figure size 640x480 with 1 Axes>"
            ],
            "image/png": "[encoded data removed]"
          },
          "metadata": {}
        }
      ]
    },
    {
      "cell_type": "markdown",
      "metadata": {
        "id": "ZCSba-Ouek6b"
      },
      "source": [
        "# The model"
      ]
    },
    {
      "cell_type": "code",
      "metadata": {
        "id": "HwhjKQEHhMUf",
        "colab": {
          "base_uri": "https://localhost:8080/"
        },
        "outputId": "12120f8a-8d89-444e-bee1-eefc293554b3"
      },
      "source": [
        "model = Net().to(device)\n",
        "get_summary(model, device)"
      ],
      "execution_count": 8,
      "outputs": [
        {
          "output_type": "stream",
          "name": "stdout",
          "text": [
            "----------------------------------------------------------------\n",
            "        Layer (type)               Output Shape         Param #\n",
            "================================================================\n",
            "            Conv2d-1            [-1, 3, 32, 32]              27\n",
            "       BatchNorm2d-2            [-1, 3, 32, 32]               6\n",
            "              ReLU-3            [-1, 3, 32, 32]               0\n",
            "            Conv2d-4           [-1, 32, 34, 34]              96\n",
            "       BatchNorm2d-5           [-1, 32, 34, 34]              64\n",
            "              ReLU-6           [-1, 32, 34, 34]               0\n",
            "depthwise_separable_conv-7           [-1, 32, 34, 34]               0\n",
            "            Conv2d-8           [-1, 32, 34, 34]             288\n",
            "       BatchNorm2d-9           [-1, 32, 34, 34]              64\n",
            "             ReLU-10           [-1, 32, 34, 34]               0\n",
            "           Conv2d-11           [-1, 32, 36, 36]           1,024\n",
            "      BatchNorm2d-12           [-1, 32, 36, 36]              64\n",
            "             ReLU-13           [-1, 32, 36, 36]               0\n",
            "depthwise_separable_conv-14           [-1, 32, 36, 36]               0\n",
            "           Conv2d-15           [-1, 32, 36, 36]             288\n",
            "      BatchNorm2d-16           [-1, 32, 36, 36]              64\n",
            "             ReLU-17           [-1, 32, 36, 36]               0\n",
            "           Conv2d-18           [-1, 32, 38, 38]           1,024\n",
            "      BatchNorm2d-19           [-1, 32, 38, 38]              64\n",
            "             ReLU-20           [-1, 32, 38, 38]               0\n",
            "depthwise_separable_conv-21           [-1, 32, 38, 38]               0\n",
            "           Conv2d-22           [-1, 32, 18, 18]           9,216\n",
            "           Conv2d-23           [-1, 32, 18, 18]             288\n",
            "      BatchNorm2d-24           [-1, 32, 18, 18]              64\n",
            "             ReLU-25           [-1, 32, 18, 18]               0\n",
            "           Conv2d-26           [-1, 32, 20, 20]           1,024\n",
            "      BatchNorm2d-27           [-1, 32, 20, 20]              64\n",
            "             ReLU-28           [-1, 32, 20, 20]               0\n",
            "depthwise_separable_conv-29           [-1, 32, 20, 20]               0\n",
            "           Conv2d-30           [-1, 32, 20, 20]             288\n",
            "      BatchNorm2d-31           [-1, 32, 20, 20]              64\n",
            "             ReLU-32           [-1, 32, 20, 20]               0\n",
            "           Conv2d-33           [-1, 32, 22, 22]           1,024\n",
            "      BatchNorm2d-34           [-1, 32, 22, 22]              64\n",
            "             ReLU-35           [-1, 32, 22, 22]               0\n",
            "depthwise_separable_conv-36           [-1, 32, 22, 22]               0\n",
            "           Conv2d-37           [-1, 32, 22, 22]             288\n",
            "      BatchNorm2d-38           [-1, 32, 22, 22]              64\n",
            "             ReLU-39           [-1, 32, 22, 22]               0\n",
            "           Conv2d-40           [-1, 64, 24, 24]           2,048\n",
            "      BatchNorm2d-41           [-1, 64, 24, 24]             128\n",
            "             ReLU-42           [-1, 64, 24, 24]               0\n",
            "depthwise_separable_conv-43           [-1, 64, 24, 24]               0\n",
            "           Conv2d-44           [-1, 64, 24, 24]           2,048\n",
            "      BatchNorm2d-45           [-1, 64, 24, 24]             128\n",
            "             ReLU-46           [-1, 64, 24, 24]               0\n",
            "      BatchNorm2d-47           [-1, 64, 24, 24]             128\n",
            "   skipConnection-48           [-1, 64, 24, 24]               0\n",
            "      BatchNorm2d-49           [-1, 64, 24, 24]             128\n",
            "           Conv2d-50           [-1, 64, 11, 11]          36,864\n",
            "      BatchNorm2d-51           [-1, 64, 11, 11]             128\n",
            "           Conv2d-52           [-1, 64, 11, 11]             576\n",
            "      BatchNorm2d-53           [-1, 64, 11, 11]             128\n",
            "             ReLU-54           [-1, 64, 11, 11]               0\n",
            "           Conv2d-55           [-1, 32, 13, 13]           2,048\n",
            "      BatchNorm2d-56           [-1, 32, 13, 13]              64\n",
            "             ReLU-57           [-1, 32, 13, 13]               0\n",
            "depthwise_separable_conv-58           [-1, 32, 13, 13]               0\n",
            "           Conv2d-59           [-1, 32, 13, 13]             288\n",
            "      BatchNorm2d-60           [-1, 32, 13, 13]              64\n",
            "             ReLU-61           [-1, 32, 13, 13]               0\n",
            "           Conv2d-62           [-1, 32, 15, 15]           1,024\n",
            "      BatchNorm2d-63           [-1, 32, 15, 15]              64\n",
            "             ReLU-64           [-1, 32, 15, 15]               0\n",
            "depthwise_separable_conv-65           [-1, 32, 15, 15]               0\n",
            "           Conv2d-66           [-1, 32, 15, 15]             288\n",
            "      BatchNorm2d-67           [-1, 32, 15, 15]              64\n",
            "             ReLU-68           [-1, 32, 15, 15]               0\n",
            "           Conv2d-69           [-1, 64, 17, 17]           2,048\n",
            "      BatchNorm2d-70           [-1, 64, 17, 17]             128\n",
            "             ReLU-71           [-1, 64, 17, 17]               0\n",
            "depthwise_separable_conv-72           [-1, 64, 17, 17]               0\n",
            "           Conv2d-73           [-1, 64, 17, 17]           4,096\n",
            "      BatchNorm2d-74           [-1, 64, 17, 17]             128\n",
            "             ReLU-75           [-1, 64, 17, 17]               0\n",
            "      BatchNorm2d-76           [-1, 64, 17, 17]             128\n",
            "   skipConnection-77           [-1, 64, 17, 17]               0\n",
            "      BatchNorm2d-78           [-1, 64, 17, 17]             128\n",
            "           Conv2d-79             [-1, 64, 8, 8]          36,864\n",
            "      BatchNorm2d-80             [-1, 64, 8, 8]             128\n",
            "           Conv2d-81             [-1, 64, 8, 8]             576\n",
            "      BatchNorm2d-82             [-1, 64, 8, 8]             128\n",
            "             ReLU-83             [-1, 64, 8, 8]               0\n",
            "           Conv2d-84           [-1, 64, 10, 10]           4,096\n",
            "      BatchNorm2d-85           [-1, 64, 10, 10]             128\n",
            "             ReLU-86           [-1, 64, 10, 10]               0\n",
            "depthwise_separable_conv-87           [-1, 64, 10, 10]               0\n",
            "           Conv2d-88           [-1, 64, 10, 10]             576\n",
            "      BatchNorm2d-89           [-1, 64, 10, 10]             128\n",
            "             ReLU-90           [-1, 64, 10, 10]               0\n",
            "           Conv2d-91          [-1, 128, 12, 12]           8,192\n",
            "      BatchNorm2d-92          [-1, 128, 12, 12]             256\n",
            "             ReLU-93          [-1, 128, 12, 12]               0\n",
            "depthwise_separable_conv-94          [-1, 128, 12, 12]               0\n",
            "           Conv2d-95          [-1, 128, 12, 12]           1,152\n",
            "      BatchNorm2d-96          [-1, 128, 12, 12]             256\n",
            "             ReLU-97          [-1, 128, 12, 12]               0\n",
            "           Conv2d-98          [-1, 256, 14, 14]          32,768\n",
            "      BatchNorm2d-99          [-1, 256, 14, 14]             512\n",
            "            ReLU-100          [-1, 256, 14, 14]               0\n",
            "depthwise_separable_conv-101          [-1, 256, 14, 14]               0\n",
            "          Conv2d-102          [-1, 256, 14, 14]          16,384\n",
            "     BatchNorm2d-103          [-1, 256, 14, 14]             512\n",
            "            ReLU-104          [-1, 256, 14, 14]               0\n",
            "     BatchNorm2d-105          [-1, 256, 14, 14]             512\n",
            "  skipConnection-106          [-1, 256, 14, 14]               0\n",
            "       AvgPool2d-107            [-1, 256, 1, 1]               0\n",
            "          Conv2d-108            [-1, 100, 1, 1]          25,600\n",
            "          Conv2d-109             [-1, 10, 1, 1]           1,000\n",
            "================================================================\n",
            "Total params: 198,153\n",
            "Trainable params: 198,153\n",
            "Non-trainable params: 0\n",
            "----------------------------------------------------------------\n",
            "Input size (MB): 0.01\n",
            "Forward/backward pass size (MB): 17.62\n",
            "Params size (MB): 0.76\n",
            "Estimated Total Size (MB): 18.39\n",
            "----------------------------------------------------------------\n",
            "None\n"
          ]
        }
      ]
    },
    {
      "cell_type": "markdown",
      "metadata": {
        "id": "y6oRmt0Oesya"
      },
      "source": [
        "# Training and Testing\n",
        "Looking at logs can be boring, so we'll introduce tqdm progressbar to get cooler logs.\n",
        "\n",
        "Let's write train and test functions"
      ]
    },
    {
      "cell_type": "code",
      "metadata": {
        "colab": {
          "base_uri": "https://localhost:8080/"
        },
        "id": "CWGJWJNSNw-f",
        "outputId": "edabb852-1202-40b6-85a8-38ab6bb1934d"
      },
      "source": [
        "model = Net().to(device)\n",
        "\n",
        "train_losses, train_acc = [], []\n",
        "test_losses, test_acc = [], []\n",
        "\n",
        "EPOCHS = 60\n",
        "\n",
        "model =  Net().to(device)\n",
        "for epoch in range(EPOCHS):\n",
        "    print(\"EPOCH:\", epoch)\n",
        "\n",
        "    optimizer = optim.SGD(model.parameters(), lr=0.001, momentum=0.8)\n",
        "    scheduler = OneCycleLR(optimizer, max_lr=0.01, epochs=60, steps_per_epoch=len(trainloader), verbose=True)\n",
        "\n",
        "    train(model, device, trainloader, optimizer, [test_losses, test_acc])\n",
        "    scheduler.step()\n",
        "    test(model, device, testloader, [train_losses, train_acc])"
      ],
      "execution_count": 17,
      "outputs": [
        {
          "metadata": {
            "tags": null
          },
          "name": "stdout",
          "output_type": "stream",
          "text": [
            "EPOCH: 0\n"
          ]
        },
        {
          "metadata": {
            "tags": null
          },
          "name": "stderr",
          "output_type": "stream",
          "text": [
            "Loss=2.097672700881958 Batch_id=390 Accuracy=14.12: 100%|██████████| 391/391 [00:23<00:00, 16.80it/s]\n"
          ]
        },
        {
          "metadata": {
            "tags": null
          },
          "name": "stdout",
          "output_type": "stream",
          "text": [
            "\n",
            "Test set: Average loss: 0.0156, Accuracy: 9646/50000 (19.29%)\n",
            "\n",
            "EPOCH: 1\n"
          ]
        },
        {
          "metadata": {
            "tags": null
          },
          "name": "stderr",
          "output_type": "stream",
          "text": [
            "Loss=1.9233791828155518 Batch_id=390 Accuracy=22.53: 100%|██████████| 391/391 [00:17<00:00, 22.93it/s]\n"
          ]
        },
        {
          "metadata": {
            "tags": null
          },
          "name": "stdout",
          "output_type": "stream",
          "text": [
            "\n",
            "Test set: Average loss: 0.0137, Accuracy: 14141/50000 (28.28%)\n",
            "\n",
            "EPOCH: 2\n"
          ]
        },
        {
          "metadata": {
            "tags": null
          },
          "name": "stderr",
          "output_type": "stream",
          "text": [
            "Loss=1.804343819618225 Batch_id=390 Accuracy=29.37: 100%|██████████| 391/391 [00:18<00:00, 21.30it/s]\n"
          ]
        },
        {
          "metadata": {
            "tags": null
          },
          "name": "stdout",
          "output_type": "stream",
          "text": [
            "\n",
            "Test set: Average loss: 0.0127, Accuracy: 18377/50000 (36.75%)\n",
            "\n",
            "EPOCH: 3\n"
          ]
        },
        {
          "metadata": {
            "tags": null
          },
          "name": "stderr",
          "output_type": "stream",
          "text": [
            "Loss=1.741493582725525 Batch_id=390 Accuracy=36.07: 100%|██████████| 391/391 [00:17<00:00, 21.94it/s]\n"
          ]
        },
        {
          "metadata": {
            "tags": null
          },
          "name": "stdout",
          "output_type": "stream",
          "text": [
            "\n",
            "Test set: Average loss: 0.0113, Accuracy: 22896/50000 (45.79%)\n",
            "\n",
            "EPOCH: 4\n"
          ]
        },
        {
          "metadata": {
            "tags": null
          },
          "name": "stderr",
          "output_type": "stream",
          "text": [
            "Loss=1.4670820236206055 Batch_id=390 Accuracy=40.66: 100%|██████████| 391/391 [00:15<00:00, 24.64it/s]\n"
          ]
        },
        {
          "metadata": {
            "tags": null
          },
          "name": "stdout",
          "output_type": "stream",
          "text": [
            "\n",
            "Test set: Average loss: 0.0104, Accuracy: 25264/50000 (50.53%)\n",
            "\n",
            "EPOCH: 5\n"
          ]
        },
        {
          "metadata": {
            "tags": null
          },
          "name": "stderr",
          "output_type": "stream",
          "text": [
            "Loss=1.4546774625778198 Batch_id=390 Accuracy=44.77: 100%|██████████| 391/391 [00:15<00:00, 24.75it/s]\n"
          ]
        },
        {
          "metadata": {
            "tags": null
          },
          "name": "stdout",
          "output_type": "stream",
          "text": [
            "\n",
            "Test set: Average loss: 0.0096, Accuracy: 27706/50000 (55.41%)\n",
            "\n",
            "EPOCH: 6\n"
          ]
        },
        {
          "metadata": {
            "tags": null
          },
          "name": "stderr",
          "output_type": "stream",
          "text": [
            "Loss=1.493087887763977 Batch_id=390 Accuracy=48.03: 100%|██████████| 391/391 [00:15<00:00, 24.64it/s]\n"
          ]
        },
        {
          "metadata": {
            "tags": null
          },
          "name": "stdout",
          "output_type": "stream",
          "text": [
            "\n",
            "Test set: Average loss: 0.0088, Accuracy: 29440/50000 (58.88%)\n",
            "\n",
            "EPOCH: 7\n"
          ]
        },
        {
          "metadata": {
            "tags": null
          },
          "name": "stderr",
          "output_type": "stream",
          "text": [
            "Loss=1.358363151550293 Batch_id=390 Accuracy=50.71: 100%|██████████| 391/391 [00:17<00:00, 22.71it/s]\n"
          ]
        },
        {
          "metadata": {
            "tags": null
          },
          "name": "stdout",
          "output_type": "stream",
          "text": [
            "\n",
            "Test set: Average loss: 0.0080, Accuracy: 31559/50000 (63.12%)\n",
            "\n",
            "EPOCH: 8\n"
          ]
        },
        {
          "metadata": {
            "tags": null
          },
          "name": "stderr",
          "output_type": "stream",
          "text": [
            "Loss=1.1404783725738525 Batch_id=390 Accuracy=52.33: 100%|██████████| 391/391 [00:17<00:00, 22.67it/s]\n"
          ]
        },
        {
          "metadata": {
            "tags": null
          },
          "name": "stdout",
          "output_type": "stream",
          "text": [
            "\n",
            "Test set: Average loss: 0.0079, Accuracy: 31690/50000 (63.38%)\n",
            "\n",
            "EPOCH: 9\n"
          ]
        },
        {
          "metadata": {
            "tags": null
          },
          "name": "stderr",
          "output_type": "stream",
          "text": [
            "Loss=1.2345744371414185 Batch_id=390 Accuracy=53.55: 100%|██████████| 391/391 [00:17<00:00, 22.63it/s]\n"
          ]
        },
        {
          "metadata": {
            "tags": null
          },
          "name": "stdout",
          "output_type": "stream",
          "text": [
            "\n",
            "Test set: Average loss: 0.0073, Accuracy: 33141/50000 (66.28%)\n",
            "\n",
            "EPOCH: 10\n"
          ]
        },
        {
          "metadata": {
            "tags": null
          },
          "name": "stderr",
          "output_type": "stream",
          "text": [
            "Loss=1.2751258611679077 Batch_id=390 Accuracy=54.93: 100%|██████████| 391/391 [00:16<00:00, 23.02it/s]\n"
          ]
        },
        {
          "metadata": {
            "tags": null
          },
          "name": "stdout",
          "output_type": "stream",
          "text": [
            "\n",
            "Test set: Average loss: 0.0071, Accuracy: 33882/50000 (67.76%)\n",
            "\n",
            "EPOCH: 11\n"
          ]
        },
        {
          "metadata": {
            "tags": null
          },
          "name": "stderr",
          "output_type": "stream",
          "text": [
            "Loss=1.052389144897461 Batch_id=390 Accuracy=55.95: 100%|██████████| 391/391 [00:17<00:00, 22.99it/s]\n"
          ]
        },
        {
          "metadata": {
            "tags": null
          },
          "name": "stdout",
          "output_type": "stream",
          "text": [
            "\n",
            "Test set: Average loss: 0.0071, Accuracy: 33800/50000 (67.60%)\n",
            "\n",
            "EPOCH: 12\n"
          ]
        },
        {
          "metadata": {
            "tags": null
          },
          "name": "stderr",
          "output_type": "stream",
          "text": [
            "Loss=1.0263621807098389 Batch_id=390 Accuracy=56.76: 100%|██████████| 391/391 [00:16<00:00, 23.88it/s]\n"
          ]
        },
        {
          "metadata": {
            "tags": null
          },
          "name": "stdout",
          "output_type": "stream",
          "text": [
            "\n",
            "Test set: Average loss: 0.0067, Accuracy: 34623/50000 (69.25%)\n",
            "\n",
            "EPOCH: 13\n"
          ]
        },
        {
          "metadata": {
            "tags": null
          },
          "name": "stderr",
          "output_type": "stream",
          "text": [
            "Loss=1.1535707712173462 Batch_id=390 Accuracy=57.78: 100%|██████████| 391/391 [00:16<00:00, 23.74it/s]\n"
          ]
        },
        {
          "metadata": {
            "tags": null
          },
          "name": "stdout",
          "output_type": "stream",
          "text": [
            "\n",
            "Test set: Average loss: 0.0063, Accuracy: 35683/50000 (71.37%)\n",
            "\n",
            "EPOCH: 14\n"
          ]
        },
        {
          "metadata": {
            "tags": null
          },
          "name": "stderr",
          "output_type": "stream",
          "text": [
            "Loss=1.2040852308273315 Batch_id=390 Accuracy=58.86: 100%|██████████| 391/391 [00:16<00:00, 23.74it/s]\n"
          ]
        },
        {
          "metadata": {
            "tags": null
          },
          "name": "stdout",
          "output_type": "stream",
          "text": [
            "\n",
            "Test set: Average loss: 0.0064, Accuracy: 35387/50000 (70.77%)\n",
            "\n",
            "EPOCH: 15\n"
          ]
        },
        {
          "metadata": {
            "tags": null
          },
          "name": "stderr",
          "output_type": "stream",
          "text": [
            "Loss=1.1471121311187744 Batch_id=390 Accuracy=59.63: 100%|██████████| 391/391 [00:18<00:00, 21.65it/s]\n"
          ]
        },
        {
          "metadata": {
            "tags": null
          },
          "name": "stdout",
          "output_type": "stream",
          "text": [
            "\n",
            "Test set: Average loss: 0.0060, Accuracy: 36395/50000 (72.79%)\n",
            "\n",
            "EPOCH: 16\n"
          ]
        },
        {
          "metadata": {
            "tags": null
          },
          "name": "stderr",
          "output_type": "stream",
          "text": [
            "Loss=1.2534881830215454 Batch_id=390 Accuracy=60.53: 100%|██████████| 391/391 [00:18<00:00, 21.37it/s]\n"
          ]
        },
        {
          "metadata": {
            "tags": null
          },
          "name": "stdout",
          "output_type": "stream",
          "text": [
            "\n",
            "Test set: Average loss: 0.0059, Accuracy: 36818/50000 (73.64%)\n",
            "\n",
            "EPOCH: 17\n"
          ]
        },
        {
          "metadata": {
            "tags": null
          },
          "name": "stderr",
          "output_type": "stream",
          "text": [
            "Loss=1.1276224851608276 Batch_id=390 Accuracy=60.93: 100%|██████████| 391/391 [00:17<00:00, 21.84it/s]\n"
          ]
        },
        {
          "metadata": {
            "tags": null
          },
          "name": "stdout",
          "output_type": "stream",
          "text": [
            "\n",
            "Test set: Average loss: 0.0057, Accuracy: 37025/50000 (74.05%)\n",
            "\n",
            "EPOCH: 18\n"
          ]
        },
        {
          "metadata": {
            "tags": null
          },
          "name": "stderr",
          "output_type": "stream",
          "text": [
            "Loss=1.1794894933700562 Batch_id=390 Accuracy=61.87: 100%|██████████| 391/391 [00:17<00:00, 22.42it/s]\n"
          ]
        },
        {
          "metadata": {
            "tags": null
          },
          "name": "stdout",
          "output_type": "stream",
          "text": [
            "\n",
            "Test set: Average loss: 0.0057, Accuracy: 37334/50000 (74.67%)\n",
            "\n",
            "EPOCH: 19\n"
          ]
        },
        {
          "metadata": {
            "tags": null
          },
          "name": "stderr",
          "output_type": "stream",
          "text": [
            "Loss=1.1279816627502441 Batch_id=390 Accuracy=62.24: 100%|██████████| 391/391 [00:16<00:00, 23.20it/s]\n"
          ]
        },
        {
          "metadata": {
            "tags": null
          },
          "name": "stdout",
          "output_type": "stream",
          "text": [
            "\n",
            "Test set: Average loss: 0.0055, Accuracy: 37707/50000 (75.41%)\n",
            "\n",
            "EPOCH: 20\n"
          ]
        },
        {
          "metadata": {
            "tags": null
          },
          "name": "stderr",
          "output_type": "stream",
          "text": [
            "Loss=1.1474653482437134 Batch_id=390 Accuracy=63.01: 100%|██████████| 391/391 [00:16<00:00, 23.48it/s]\n"
          ]
        },
        {
          "metadata": {
            "tags": null
          },
          "name": "stdout",
          "output_type": "stream",
          "text": [
            "\n",
            "Test set: Average loss: 0.0054, Accuracy: 37814/50000 (75.63%)\n",
            "\n",
            "EPOCH: 21\n"
          ]
        },
        {
          "metadata": {
            "tags": null
          },
          "name": "stderr",
          "output_type": "stream",
          "text": [
            "Loss=1.1049258708953857 Batch_id=390 Accuracy=63.27: 100%|██████████| 391/391 [00:16<00:00, 23.44it/s]\n"
          ]
        },
        {
          "metadata": {
            "tags": null
          },
          "name": "stdout",
          "output_type": "stream",
          "text": [
            "\n",
            "Test set: Average loss: 0.0052, Accuracy: 38316/50000 (76.63%)\n",
            "\n",
            "EPOCH: 22\n"
          ]
        },
        {
          "metadata": {
            "tags": null
          },
          "name": "stderr",
          "output_type": "stream",
          "text": [
            "Loss=1.107634425163269 Batch_id=390 Accuracy=63.40: 100%|██████████| 391/391 [00:17<00:00, 22.81it/s]\n"
          ]
        },
        {
          "metadata": {
            "tags": null
          },
          "name": "stdout",
          "output_type": "stream",
          "text": [
            "\n",
            "Test set: Average loss: 0.0051, Accuracy: 38694/50000 (77.39%)\n",
            "\n",
            "EPOCH: 23\n"
          ]
        },
        {
          "metadata": {
            "tags": null
          },
          "name": "stderr",
          "output_type": "stream",
          "text": [
            "Loss=1.0228604078292847 Batch_id=390 Accuracy=64.23: 100%|██████████| 391/391 [00:17<00:00, 22.52it/s]\n"
          ]
        },
        {
          "metadata": {
            "tags": null
          },
          "name": "stdout",
          "output_type": "stream",
          "text": [
            "\n",
            "Test set: Average loss: 0.0049, Accuracy: 38859/50000 (77.72%)\n",
            "\n",
            "EPOCH: 24\n"
          ]
        },
        {
          "metadata": {
            "tags": null
          },
          "name": "stderr",
          "output_type": "stream",
          "text": [
            "Loss=0.9359288215637207 Batch_id=390 Accuracy=64.38: 100%|██████████| 391/391 [00:17<00:00, 22.68it/s]\n"
          ]
        },
        {
          "metadata": {
            "tags": null
          },
          "name": "stdout",
          "output_type": "stream",
          "text": [
            "\n",
            "Test set: Average loss: 0.0049, Accuracy: 39027/50000 (78.05%)\n",
            "\n",
            "EPOCH: 25\n"
          ]
        },
        {
          "metadata": {
            "tags": null
          },
          "name": "stderr",
          "output_type": "stream",
          "text": [
            "Loss=1.1534053087234497 Batch_id=390 Accuracy=64.90: 100%|██████████| 391/391 [00:17<00:00, 22.92it/s]\n"
          ]
        },
        {
          "metadata": {
            "tags": null
          },
          "name": "stdout",
          "output_type": "stream",
          "text": [
            "\n",
            "Test set: Average loss: 0.0048, Accuracy: 39392/50000 (78.78%)\n",
            "\n",
            "EPOCH: 26\n"
          ]
        },
        {
          "metadata": {
            "tags": null
          },
          "name": "stderr",
          "output_type": "stream",
          "text": [
            "Loss=1.129422664642334 Batch_id=390 Accuracy=64.92: 100%|██████████| 391/391 [00:16<00:00, 23.03it/s]\n"
          ]
        },
        {
          "metadata": {
            "tags": null
          },
          "name": "stdout",
          "output_type": "stream",
          "text": [
            "\n",
            "Test set: Average loss: 0.0048, Accuracy: 39512/50000 (79.02%)\n",
            "\n",
            "EPOCH: 27\n"
          ]
        },
        {
          "metadata": {
            "tags": null
          },
          "name": "stderr",
          "output_type": "stream",
          "text": [
            "Loss=0.9655517339706421 Batch_id=390 Accuracy=64.99: 100%|██████████| 391/391 [00:17<00:00, 22.67it/s]\n"
          ]
        },
        {
          "metadata": {
            "tags": null
          },
          "name": "stdout",
          "output_type": "stream",
          "text": [
            "\n",
            "Test set: Average loss: 0.0047, Accuracy: 39704/50000 (79.41%)\n",
            "\n",
            "EPOCH: 28\n"
          ]
        },
        {
          "metadata": {
            "tags": null
          },
          "name": "stderr",
          "output_type": "stream",
          "text": [
            "Loss=0.9407041668891907 Batch_id=390 Accuracy=65.38: 100%|██████████| 391/391 [00:16<00:00, 23.05it/s]\n"
          ]
        },
        {
          "metadata": {
            "tags": null
          },
          "name": "stdout",
          "output_type": "stream",
          "text": [
            "\n",
            "Test set: Average loss: 0.0047, Accuracy: 39696/50000 (79.39%)\n",
            "\n",
            "EPOCH: 29\n"
          ]
        },
        {
          "metadata": {
            "tags": null
          },
          "name": "stderr",
          "output_type": "stream",
          "text": [
            "Loss=0.8775504231452942 Batch_id=390 Accuracy=66.13: 100%|██████████| 391/391 [00:17<00:00, 22.74it/s]\n"
          ]
        },
        {
          "metadata": {
            "tags": null
          },
          "name": "stdout",
          "output_type": "stream",
          "text": [
            "\n",
            "Test set: Average loss: 0.0045, Accuracy: 39950/50000 (79.90%)\n",
            "\n",
            "EPOCH: 30\n"
          ]
        },
        {
          "metadata": {
            "tags": null
          },
          "name": "stderr",
          "output_type": "stream",
          "text": [
            "Loss=1.01112961769104 Batch_id=390 Accuracy=66.30: 100%|██████████| 391/391 [00:17<00:00, 22.50it/s]\n"
          ]
        },
        {
          "metadata": {
            "tags": null
          },
          "name": "stdout",
          "output_type": "stream",
          "text": [
            "\n",
            "Test set: Average loss: 0.0045, Accuracy: 39939/50000 (79.88%)\n",
            "\n",
            "EPOCH: 31\n"
          ]
        },
        {
          "metadata": {
            "tags": null
          },
          "name": "stderr",
          "output_type": "stream",
          "text": [
            "Loss=0.8513558506965637 Batch_id=390 Accuracy=66.22: 100%|██████████| 391/391 [00:17<00:00, 22.94it/s]\n"
          ]
        },
        {
          "metadata": {
            "tags": null
          },
          "name": "stdout",
          "output_type": "stream",
          "text": [
            "\n",
            "Test set: Average loss: 0.0045, Accuracy: 40087/50000 (80.17%)\n",
            "\n",
            "EPOCH: 32\n"
          ]
        },
        {
          "metadata": {
            "tags": null
          },
          "name": "stderr",
          "output_type": "stream",
          "text": [
            "Loss=1.2039210796356201 Batch_id=390 Accuracy=66.64: 100%|██████████| 391/391 [00:17<00:00, 22.40it/s]\n"
          ]
        },
        {
          "metadata": {
            "tags": null
          },
          "name": "stdout",
          "output_type": "stream",
          "text": [
            "\n",
            "Test set: Average loss: 0.0043, Accuracy: 40545/50000 (81.09%)\n",
            "\n",
            "EPOCH: 33\n"
          ]
        },
        {
          "metadata": {
            "tags": null
          },
          "name": "stderr",
          "output_type": "stream",
          "text": [
            "Loss=0.8116130828857422 Batch_id=390 Accuracy=66.67: 100%|██████████| 391/391 [00:17<00:00, 22.53it/s]\n"
          ]
        },
        {
          "metadata": {
            "tags": null
          },
          "name": "stdout",
          "output_type": "stream",
          "text": [
            "\n",
            "Test set: Average loss: 0.0043, Accuracy: 40552/50000 (81.10%)\n",
            "\n",
            "EPOCH: 34\n"
          ]
        },
        {
          "metadata": {
            "tags": null
          },
          "name": "stderr",
          "output_type": "stream",
          "text": [
            "Loss=0.7978744506835938 Batch_id=390 Accuracy=67.06: 100%|██████████| 391/391 [00:17<00:00, 22.64it/s]\n"
          ]
        },
        {
          "metadata": {
            "tags": null
          },
          "name": "stdout",
          "output_type": "stream",
          "text": [
            "\n",
            "Test set: Average loss: 0.0042, Accuracy: 40760/50000 (81.52%)\n",
            "\n",
            "EPOCH: 35\n"
          ]
        },
        {
          "metadata": {
            "tags": null
          },
          "name": "stderr",
          "output_type": "stream",
          "text": [
            "Loss=0.747665286064148 Batch_id=390 Accuracy=67.39: 100%|██████████| 391/391 [00:17<00:00, 22.26it/s]\n"
          ]
        },
        {
          "metadata": {
            "tags": null
          },
          "name": "stdout",
          "output_type": "stream",
          "text": [
            "\n",
            "Test set: Average loss: 0.0041, Accuracy: 40914/50000 (81.83%)\n",
            "\n",
            "EPOCH: 36\n"
          ]
        },
        {
          "metadata": {
            "tags": null
          },
          "name": "stderr",
          "output_type": "stream",
          "text": [
            "Loss=1.0176655054092407 Batch_id=390 Accuracy=67.57: 100%|██████████| 391/391 [00:16<00:00, 23.14it/s]\n"
          ]
        },
        {
          "metadata": {
            "tags": null
          },
          "name": "stdout",
          "output_type": "stream",
          "text": [
            "\n",
            "Test set: Average loss: 0.0041, Accuracy: 40971/50000 (81.94%)\n",
            "\n",
            "EPOCH: 37\n"
          ]
        },
        {
          "metadata": {
            "tags": null
          },
          "name": "stderr",
          "output_type": "stream",
          "text": [
            "Loss=1.055802583694458 Batch_id=390 Accuracy=67.66: 100%|██████████| 391/391 [00:16<00:00, 23.24it/s]\n"
          ]
        },
        {
          "metadata": {
            "tags": null
          },
          "name": "stdout",
          "output_type": "stream",
          "text": [
            "\n",
            "Test set: Average loss: 0.0040, Accuracy: 41126/50000 (82.25%)\n",
            "\n",
            "EPOCH: 38\n"
          ]
        },
        {
          "metadata": {
            "tags": null
          },
          "name": "stderr",
          "output_type": "stream",
          "text": [
            "Loss=0.7940801978111267 Batch_id=390 Accuracy=67.71: 100%|██████████| 391/391 [00:16<00:00, 23.03it/s]\n"
          ]
        },
        {
          "metadata": {
            "tags": null
          },
          "name": "stdout",
          "output_type": "stream",
          "text": [
            "\n",
            "Test set: Average loss: 0.0040, Accuracy: 41099/50000 (82.20%)\n",
            "\n",
            "EPOCH: 39\n"
          ]
        },
        {
          "metadata": {
            "tags": null
          },
          "name": "stderr",
          "output_type": "stream",
          "text": [
            "Loss=0.9978891611099243 Batch_id=390 Accuracy=68.11: 100%|██████████| 391/391 [00:17<00:00, 22.91it/s]\n"
          ]
        },
        {
          "metadata": {
            "tags": null
          },
          "name": "stdout",
          "output_type": "stream",
          "text": [
            "\n",
            "Test set: Average loss: 0.0040, Accuracy: 41103/50000 (82.21%)\n",
            "\n",
            "EPOCH: 40\n"
          ]
        },
        {
          "metadata": {
            "tags": null
          },
          "name": "stderr",
          "output_type": "stream",
          "text": [
            "Loss=0.776904284954071 Batch_id=390 Accuracy=68.40: 100%|██████████| 391/391 [00:16<00:00, 23.18it/s]\n"
          ]
        },
        {
          "metadata": {
            "tags": null
          },
          "name": "stdout",
          "output_type": "stream",
          "text": [
            "\n",
            "Test set: Average loss: 0.0039, Accuracy: 41263/50000 (82.53%)\n",
            "\n",
            "EPOCH: 41\n"
          ]
        },
        {
          "metadata": {
            "tags": null
          },
          "name": "stderr",
          "output_type": "stream",
          "text": [
            "Loss=0.9935503005981445 Batch_id=390 Accuracy=68.46: 100%|██████████| 391/391 [00:16<00:00, 23.49it/s]\n"
          ]
        },
        {
          "metadata": {
            "tags": null
          },
          "name": "stdout",
          "output_type": "stream",
          "text": [
            "\n",
            "Test set: Average loss: 0.0038, Accuracy: 41470/50000 (82.94%)\n",
            "\n",
            "EPOCH: 42\n"
          ]
        },
        {
          "metadata": {
            "tags": null
          },
          "name": "stderr",
          "output_type": "stream",
          "text": [
            "Loss=1.0259487628936768 Batch_id=390 Accuracy=68.67: 100%|██████████| 391/391 [00:17<00:00, 21.94it/s]\n"
          ]
        },
        {
          "metadata": {
            "tags": null
          },
          "name": "stdout",
          "output_type": "stream",
          "text": [
            "\n",
            "Test set: Average loss: 0.0038, Accuracy: 41539/50000 (83.08%)\n",
            "\n",
            "EPOCH: 43\n"
          ]
        },
        {
          "output_type": "stream",
          "name": "stderr",
          "text": [
            "Loss=0.9181448221206665 Batch_id=390 Accuracy=68.90: 100%|██████████| 391/391 [00:17<00:00, 22.77it/s]\n"
          ]
        },
        {
          "output_type": "stream",
          "name": "stdout",
          "text": [
            "\n",
            "Test set: Average loss: 0.0038, Accuracy: 41464/50000 (82.93%)\n",
            "\n",
            "EPOCH: 44\n"
          ]
        },
        {
          "output_type": "stream",
          "name": "stderr",
          "text": [
            "Loss=0.855462908744812 Batch_id=390 Accuracy=68.97: 100%|██████████| 391/391 [00:17<00:00, 22.45it/s]\n"
          ]
        },
        {
          "output_type": "stream",
          "name": "stdout",
          "text": [
            "\n",
            "Test set: Average loss: 0.0039, Accuracy: 41294/50000 (82.59%)\n",
            "\n",
            "EPOCH: 45\n"
          ]
        },
        {
          "output_type": "stream",
          "name": "stderr",
          "text": [
            "Loss=0.810455322265625 Batch_id=390 Accuracy=69.11: 100%|██████████| 391/391 [00:16<00:00, 23.02it/s]\n"
          ]
        },
        {
          "output_type": "stream",
          "name": "stdout",
          "text": [
            "\n",
            "Test set: Average loss: 0.0038, Accuracy: 41617/50000 (83.23%)\n",
            "\n",
            "EPOCH: 46\n"
          ]
        },
        {
          "output_type": "stream",
          "name": "stderr",
          "text": [
            "Loss=0.8999330401420593 Batch_id=390 Accuracy=69.36: 100%|██████████| 391/391 [00:16<00:00, 23.03it/s]\n"
          ]
        },
        {
          "output_type": "stream",
          "name": "stdout",
          "text": [
            "\n",
            "Test set: Average loss: 0.0037, Accuracy: 41667/50000 (83.33%)\n",
            "\n",
            "EPOCH: 47\n"
          ]
        },
        {
          "output_type": "stream",
          "name": "stderr",
          "text": [
            "Loss=0.9379239082336426 Batch_id=390 Accuracy=69.53: 100%|██████████| 391/391 [00:17<00:00, 22.88it/s]\n"
          ]
        },
        {
          "output_type": "stream",
          "name": "stdout",
          "text": [
            "\n",
            "Test set: Average loss: 0.0038, Accuracy: 41596/50000 (83.19%)\n",
            "\n",
            "EPOCH: 48\n"
          ]
        },
        {
          "output_type": "stream",
          "name": "stderr",
          "text": [
            "Loss=0.8045741319656372 Batch_id=390 Accuracy=69.37: 100%|██████████| 391/391 [00:17<00:00, 22.76it/s]\n"
          ]
        },
        {
          "output_type": "stream",
          "name": "stdout",
          "text": [
            "\n",
            "Test set: Average loss: 0.0035, Accuracy: 42237/50000 (84.47%)\n",
            "\n",
            "EPOCH: 49\n"
          ]
        },
        {
          "output_type": "stream",
          "name": "stderr",
          "text": [
            "Loss=1.105459451675415 Batch_id=390 Accuracy=69.73: 100%|██████████| 391/391 [00:18<00:00, 21.06it/s]\n"
          ]
        },
        {
          "output_type": "stream",
          "name": "stdout",
          "text": [
            "\n",
            "Test set: Average loss: 0.0036, Accuracy: 42024/50000 (84.05%)\n",
            "\n",
            "EPOCH: 50\n"
          ]
        },
        {
          "output_type": "stream",
          "name": "stderr",
          "text": [
            "Loss=1.045619249343872 Batch_id=390 Accuracy=70.02: 100%|██████████| 391/391 [00:17<00:00, 21.95it/s]\n"
          ]
        },
        {
          "output_type": "stream",
          "name": "stdout",
          "text": [
            "\n",
            "Test set: Average loss: 0.0035, Accuracy: 42157/50000 (84.31%)\n",
            "\n",
            "EPOCH: 51\n"
          ]
        },
        {
          "output_type": "stream",
          "name": "stderr",
          "text": [
            "Loss=0.7845791578292847 Batch_id=390 Accuracy=70.04: 100%|██████████| 391/391 [00:17<00:00, 22.09it/s]\n"
          ]
        },
        {
          "output_type": "stream",
          "name": "stdout",
          "text": [
            "\n",
            "Test set: Average loss: 0.0036, Accuracy: 42140/50000 (84.28%)\n",
            "\n",
            "EPOCH: 52\n"
          ]
        },
        {
          "output_type": "stream",
          "name": "stderr",
          "text": [
            "Loss=0.7668627500534058 Batch_id=390 Accuracy=69.71: 100%|██████████| 391/391 [00:17<00:00, 21.86it/s]\n"
          ]
        },
        {
          "output_type": "stream",
          "name": "stdout",
          "text": [
            "\n",
            "Test set: Average loss: 0.0035, Accuracy: 42172/50000 (84.34%)\n",
            "\n",
            "EPOCH: 53\n"
          ]
        },
        {
          "output_type": "stream",
          "name": "stderr",
          "text": [
            "Loss=0.8231522440910339 Batch_id=390 Accuracy=70.09: 100%|██████████| 391/391 [00:18<00:00, 21.58it/s]\n"
          ]
        },
        {
          "output_type": "stream",
          "name": "stdout",
          "text": [
            "\n",
            "Test set: Average loss: 0.0035, Accuracy: 42265/50000 (84.53%)\n",
            "\n",
            "EPOCH: 54\n"
          ]
        },
        {
          "output_type": "stream",
          "name": "stderr",
          "text": [
            "Loss=0.9210013151168823 Batch_id=390 Accuracy=70.14: 100%|██████████| 391/391 [00:17<00:00, 22.31it/s]\n"
          ]
        },
        {
          "output_type": "stream",
          "name": "stdout",
          "text": [
            "\n",
            "Test set: Average loss: 0.0035, Accuracy: 42214/50000 (84.43%)\n",
            "\n",
            "EPOCH: 55\n"
          ]
        },
        {
          "output_type": "stream",
          "name": "stderr",
          "text": [
            "Loss=0.849112868309021 Batch_id=390 Accuracy=70.37: 100%|██████████| 391/391 [00:16<00:00, 23.07it/s]\n"
          ]
        },
        {
          "output_type": "stream",
          "name": "stdout",
          "text": [
            "\n",
            "Test set: Average loss: 0.0034, Accuracy: 42518/50000 (85.04%)\n",
            "\n",
            "EPOCH: 56\n"
          ]
        },
        {
          "output_type": "stream",
          "name": "stderr",
          "text": [
            "Loss=0.8284203410148621 Batch_id=390 Accuracy=70.41: 100%|██████████| 391/391 [00:16<00:00, 23.17it/s]\n"
          ]
        },
        {
          "output_type": "stream",
          "name": "stdout",
          "text": [
            "\n",
            "Test set: Average loss: 0.0034, Accuracy: 42562/50000 (85.12%)\n",
            "\n",
            "EPOCH: 57\n"
          ]
        },
        {
          "output_type": "stream",
          "name": "stderr",
          "text": [
            "Loss=0.9443527460098267 Batch_id=390 Accuracy=70.70: 100%|██████████| 391/391 [00:16<00:00, 23.21it/s]\n"
          ]
        },
        {
          "output_type": "stream",
          "name": "stdout",
          "text": [
            "\n",
            "Test set: Average loss: 0.0034, Accuracy: 42584/50000 (85.17%)\n",
            "\n",
            "EPOCH: 58\n"
          ]
        },
        {
          "output_type": "stream",
          "name": "stderr",
          "text": [
            "Loss=0.9478194117546082 Batch_id=390 Accuracy=70.83: 100%|██████████| 391/391 [00:17<00:00, 22.75it/s]\n"
          ]
        },
        {
          "output_type": "stream",
          "name": "stdout",
          "text": [
            "\n",
            "Test set: Average loss: 0.0033, Accuracy: 42846/50000 (85.69%)\n",
            "\n",
            "EPOCH: 59\n"
          ]
        },
        {
          "output_type": "stream",
          "name": "stderr",
          "text": [
            "Loss=0.8695204854011536 Batch_id=390 Accuracy=71.19: 100%|██████████| 391/391 [00:17<00:00, 22.77it/s]\n"
          ]
        },
        {
          "output_type": "stream",
          "name": "stdout",
          "text": [
            "\n",
            "Test set: Average loss: 0.0033, Accuracy: 42671/50000 (85.34%)\n",
            "\n",
            "EPOCH: 60\n"
          ]
        },
        {
          "output_type": "stream",
          "name": "stderr",
          "text": [
            "Loss=1.072361707687378 Batch_id=390 Accuracy=70.61: 100%|██████████| 391/391 [00:18<00:00, 21.65it/s]\n"
          ]
        },
        {
          "output_type": "stream",
          "name": "stdout",
          "text": [
            "\n",
            "Test set: Average loss: 0.0033, Accuracy: 42785/50000 (85.57%)\n",
            "\n",
            "EPOCH: 61\n"
          ]
        },
        {
          "output_type": "stream",
          "name": "stderr",
          "text": [
            "Loss=0.9026285409927368 Batch_id=390 Accuracy=70.93: 100%|██████████| 391/391 [00:17<00:00, 21.93it/s]\n"
          ]
        },
        {
          "output_type": "stream",
          "name": "stdout",
          "text": [
            "\n",
            "Test set: Average loss: 0.0033, Accuracy: 42647/50000 (85.29%)\n",
            "\n",
            "EPOCH: 62\n"
          ]
        },
        {
          "output_type": "stream",
          "name": "stderr",
          "text": [
            "Loss=0.6257885694503784 Batch_id=390 Accuracy=71.12: 100%|██████████| 391/391 [00:18<00:00, 21.33it/s]\n"
          ]
        },
        {
          "output_type": "stream",
          "name": "stdout",
          "text": [
            "\n",
            "Test set: Average loss: 0.0033, Accuracy: 42754/50000 (85.51%)\n",
            "\n",
            "EPOCH: 63\n"
          ]
        },
        {
          "output_type": "stream",
          "name": "stderr",
          "text": [
            "Loss=0.7716007232666016 Batch_id=390 Accuracy=71.16: 100%|██████████| 391/391 [00:17<00:00, 22.09it/s]\n"
          ]
        },
        {
          "output_type": "stream",
          "name": "stdout",
          "text": [
            "\n",
            "Test set: Average loss: 0.0032, Accuracy: 42945/50000 (85.89%)\n",
            "\n",
            "EPOCH: 64\n"
          ]
        },
        {
          "output_type": "stream",
          "name": "stderr",
          "text": [
            "Loss=0.7918602228164673 Batch_id=390 Accuracy=71.48: 100%|██████████| 391/391 [00:16<00:00, 23.10it/s]\n"
          ]
        },
        {
          "output_type": "stream",
          "name": "stdout",
          "text": [
            "\n",
            "Test set: Average loss: 0.0032, Accuracy: 42949/50000 (85.90%)\n",
            "\n",
            "EPOCH: 65\n"
          ]
        },
        {
          "output_type": "stream",
          "name": "stderr",
          "text": [
            "Loss=0.7250040173530579 Batch_id=390 Accuracy=71.32: 100%|██████████| 391/391 [00:17<00:00, 22.87it/s]\n"
          ]
        },
        {
          "output_type": "stream",
          "name": "stdout",
          "text": [
            "\n",
            "Test set: Average loss: 0.0032, Accuracy: 43072/50000 (86.14%)\n",
            "\n",
            "EPOCH: 66\n"
          ]
        },
        {
          "output_type": "stream",
          "name": "stderr",
          "text": [
            "Loss=0.6880723237991333 Batch_id=390 Accuracy=71.48: 100%|██████████| 391/391 [00:17<00:00, 22.66it/s]\n"
          ]
        },
        {
          "output_type": "stream",
          "name": "stdout",
          "text": [
            "\n",
            "Test set: Average loss: 0.0031, Accuracy: 43107/50000 (86.21%)\n",
            "\n",
            "EPOCH: 67\n"
          ]
        },
        {
          "output_type": "stream",
          "name": "stderr",
          "text": [
            "Loss=0.7238771915435791 Batch_id=390 Accuracy=71.78: 100%|██████████| 391/391 [00:17<00:00, 22.61it/s]\n"
          ]
        },
        {
          "output_type": "stream",
          "name": "stdout",
          "text": [
            "\n",
            "Test set: Average loss: 0.0030, Accuracy: 43359/50000 (86.72%)\n",
            "\n",
            "EPOCH: 68\n"
          ]
        },
        {
          "output_type": "stream",
          "name": "stderr",
          "text": [
            "Loss=0.5147561430931091 Batch_id=390 Accuracy=71.41: 100%|██████████| 391/391 [00:17<00:00, 22.68it/s]\n"
          ]
        },
        {
          "output_type": "stream",
          "name": "stdout",
          "text": [
            "\n",
            "Test set: Average loss: 0.0031, Accuracy: 43377/50000 (86.75%)\n",
            "\n",
            "EPOCH: 69\n"
          ]
        },
        {
          "output_type": "stream",
          "name": "stderr",
          "text": [
            "Loss=0.8722718954086304 Batch_id=390 Accuracy=71.80: 100%|██████████| 391/391 [00:18<00:00, 20.69it/s]\n"
          ]
        },
        {
          "output_type": "stream",
          "name": "stdout",
          "text": [
            "\n",
            "Test set: Average loss: 0.0031, Accuracy: 43299/50000 (86.60%)\n",
            "\n",
            "EPOCH: 70\n"
          ]
        },
        {
          "output_type": "stream",
          "name": "stderr",
          "text": [
            "Loss=0.765256941318512 Batch_id=390 Accuracy=71.52: 100%|██████████| 391/391 [00:17<00:00, 22.06it/s]\n"
          ]
        },
        {
          "output_type": "stream",
          "name": "stdout",
          "text": [
            "\n",
            "Test set: Average loss: 0.0030, Accuracy: 43411/50000 (86.82%)\n",
            "\n",
            "EPOCH: 71\n"
          ]
        },
        {
          "output_type": "stream",
          "name": "stderr",
          "text": [
            "Loss=0.7650793194770813 Batch_id=390 Accuracy=71.96: 100%|██████████| 391/391 [00:18<00:00, 21.51it/s]\n"
          ]
        },
        {
          "output_type": "stream",
          "name": "stdout",
          "text": [
            "\n",
            "Test set: Average loss: 0.0031, Accuracy: 43268/50000 (86.54%)\n",
            "\n",
            "EPOCH: 72\n"
          ]
        },
        {
          "output_type": "stream",
          "name": "stderr",
          "text": [
            "Loss=0.7608504295349121 Batch_id=390 Accuracy=72.18: 100%|██████████| 391/391 [00:18<00:00, 21.65it/s]\n"
          ]
        },
        {
          "output_type": "stream",
          "name": "stdout",
          "text": [
            "\n",
            "Test set: Average loss: 0.0031, Accuracy: 43196/50000 (86.39%)\n",
            "\n",
            "EPOCH: 73\n"
          ]
        },
        {
          "output_type": "stream",
          "name": "stderr",
          "text": [
            "Loss=0.7548934817314148 Batch_id=390 Accuracy=72.09: 100%|██████████| 391/391 [00:17<00:00, 22.31it/s]\n"
          ]
        },
        {
          "output_type": "stream",
          "name": "stdout",
          "text": [
            "\n",
            "Test set: Average loss: 0.0030, Accuracy: 43519/50000 (87.04%)\n",
            "\n",
            "EPOCH: 74\n"
          ]
        },
        {
          "output_type": "stream",
          "name": "stderr",
          "text": [
            "Loss=0.7066032290458679 Batch_id=390 Accuracy=72.22: 100%|██████████| 391/391 [00:17<00:00, 22.58it/s]\n"
          ]
        },
        {
          "output_type": "stream",
          "name": "stdout",
          "text": [
            "\n",
            "Test set: Average loss: 0.0030, Accuracy: 43342/50000 (86.68%)\n",
            "\n",
            "EPOCH: 75\n"
          ]
        },
        {
          "output_type": "stream",
          "name": "stderr",
          "text": [
            "Loss=0.878619372844696 Batch_id=390 Accuracy=72.33: 100%|██████████| 391/391 [00:17<00:00, 22.44it/s]\n"
          ]
        },
        {
          "output_type": "stream",
          "name": "stdout",
          "text": [
            "\n",
            "Test set: Average loss: 0.0029, Accuracy: 43593/50000 (87.19%)\n",
            "\n",
            "EPOCH: 76\n"
          ]
        },
        {
          "output_type": "stream",
          "name": "stderr",
          "text": [
            "Loss=0.6697802543640137 Batch_id=390 Accuracy=72.10: 100%|██████████| 391/391 [00:17<00:00, 22.44it/s]\n"
          ]
        },
        {
          "output_type": "stream",
          "name": "stdout",
          "text": [
            "\n",
            "Test set: Average loss: 0.0030, Accuracy: 43433/50000 (86.87%)\n",
            "\n",
            "EPOCH: 77\n"
          ]
        },
        {
          "output_type": "stream",
          "name": "stderr",
          "text": [
            "Loss=0.8300576210021973 Batch_id=390 Accuracy=72.42: 100%|██████████| 391/391 [00:18<00:00, 21.20it/s]\n"
          ]
        },
        {
          "output_type": "stream",
          "name": "stdout",
          "text": [
            "\n",
            "Test set: Average loss: 0.0029, Accuracy: 43635/50000 (87.27%)\n",
            "\n",
            "EPOCH: 78\n"
          ]
        },
        {
          "output_type": "stream",
          "name": "stderr",
          "text": [
            "Loss=0.7973286509513855 Batch_id=390 Accuracy=72.47: 100%|██████████| 391/391 [00:18<00:00, 21.22it/s]\n"
          ]
        },
        {
          "output_type": "stream",
          "name": "stdout",
          "text": [
            "\n",
            "Test set: Average loss: 0.0029, Accuracy: 43510/50000 (87.02%)\n",
            "\n",
            "EPOCH: 79\n"
          ]
        },
        {
          "output_type": "stream",
          "name": "stderr",
          "text": [
            "Loss=0.7327312231063843 Batch_id=390 Accuracy=72.77: 100%|██████████| 391/391 [00:18<00:00, 21.29it/s]\n"
          ]
        },
        {
          "output_type": "stream",
          "name": "stdout",
          "text": [
            "\n",
            "Test set: Average loss: 0.0029, Accuracy: 43749/50000 (87.50%)\n",
            "\n",
            "EPOCH: 80\n"
          ]
        },
        {
          "output_type": "stream",
          "name": "stderr",
          "text": [
            "Loss=0.6905401945114136 Batch_id=390 Accuracy=72.71: 100%|██████████| 391/391 [00:17<00:00, 21.73it/s]\n"
          ]
        },
        {
          "output_type": "stream",
          "name": "stdout",
          "text": [
            "\n",
            "Test set: Average loss: 0.0029, Accuracy: 43682/50000 (87.36%)\n",
            "\n",
            "EPOCH: 81\n"
          ]
        },
        {
          "output_type": "stream",
          "name": "stderr",
          "text": [
            "Loss=0.9952092170715332 Batch_id=390 Accuracy=72.74: 100%|██████████| 391/391 [00:17<00:00, 22.34it/s]\n"
          ]
        },
        {
          "output_type": "stream",
          "name": "stdout",
          "text": [
            "\n",
            "Test set: Average loss: 0.0028, Accuracy: 43796/50000 (87.59%)\n",
            "\n",
            "EPOCH: 82\n"
          ]
        },
        {
          "output_type": "stream",
          "name": "stderr",
          "text": [
            "Loss=0.8214624524116516 Batch_id=390 Accuracy=73.03: 100%|██████████| 391/391 [00:18<00:00, 21.26it/s]\n"
          ]
        },
        {
          "output_type": "stream",
          "name": "stdout",
          "text": [
            "\n",
            "Test set: Average loss: 0.0028, Accuracy: 43772/50000 (87.54%)\n",
            "\n",
            "EPOCH: 83\n"
          ]
        },
        {
          "output_type": "stream",
          "name": "stderr",
          "text": [
            "Loss=0.9756428599357605 Batch_id=390 Accuracy=72.54: 100%|██████████| 391/391 [00:17<00:00, 22.61it/s]\n"
          ]
        },
        {
          "output_type": "stream",
          "name": "stdout",
          "text": [
            "\n",
            "Test set: Average loss: 0.0028, Accuracy: 44021/50000 (88.04%)\n",
            "\n",
            "EPOCH: 84\n"
          ]
        },
        {
          "output_type": "stream",
          "name": "stderr",
          "text": [
            "Loss=0.7257782220840454 Batch_id=390 Accuracy=73.09: 100%|██████████| 391/391 [00:17<00:00, 21.95it/s]\n"
          ]
        },
        {
          "output_type": "stream",
          "name": "stdout",
          "text": [
            "\n",
            "Test set: Average loss: 0.0028, Accuracy: 43830/50000 (87.66%)\n",
            "\n",
            "EPOCH: 85\n"
          ]
        },
        {
          "output_type": "stream",
          "name": "stderr",
          "text": [
            "Loss=0.7141084671020508 Batch_id=390 Accuracy=73.05: 100%|██████████| 391/391 [00:18<00:00, 21.70it/s]\n"
          ]
        },
        {
          "output_type": "stream",
          "name": "stdout",
          "text": [
            "\n",
            "Test set: Average loss: 0.0028, Accuracy: 43880/50000 (87.76%)\n",
            "\n",
            "EPOCH: 86\n"
          ]
        },
        {
          "output_type": "stream",
          "name": "stderr",
          "text": [
            "Loss=0.6093583106994629 Batch_id=390 Accuracy=73.24: 100%|██████████| 391/391 [00:18<00:00, 21.40it/s]\n"
          ]
        },
        {
          "output_type": "stream",
          "name": "stdout",
          "text": [
            "\n",
            "Test set: Average loss: 0.0028, Accuracy: 44105/50000 (88.21%)\n",
            "\n",
            "EPOCH: 87\n"
          ]
        },
        {
          "output_type": "stream",
          "name": "stderr",
          "text": [
            "Loss=0.8504127264022827 Batch_id=390 Accuracy=73.06: 100%|██████████| 391/391 [00:18<00:00, 21.40it/s]\n"
          ]
        },
        {
          "output_type": "stream",
          "name": "stdout",
          "text": [
            "\n",
            "Test set: Average loss: 0.0027, Accuracy: 44151/50000 (88.30%)\n",
            "\n",
            "EPOCH: 88\n"
          ]
        },
        {
          "output_type": "stream",
          "name": "stderr",
          "text": [
            "Loss=0.8511843681335449 Batch_id=390 Accuracy=73.36: 100%|██████████| 391/391 [00:17<00:00, 22.25it/s]\n"
          ]
        },
        {
          "output_type": "stream",
          "name": "stdout",
          "text": [
            "\n",
            "Test set: Average loss: 0.0027, Accuracy: 44115/50000 (88.23%)\n",
            "\n",
            "EPOCH: 89\n"
          ]
        },
        {
          "output_type": "stream",
          "name": "stderr",
          "text": [
            "Loss=0.8677444458007812 Batch_id=390 Accuracy=73.18: 100%|██████████| 391/391 [00:17<00:00, 22.28it/s]\n"
          ]
        },
        {
          "output_type": "stream",
          "name": "stdout",
          "text": [
            "\n",
            "Test set: Average loss: 0.0028, Accuracy: 43963/50000 (87.93%)\n",
            "\n",
            "EPOCH: 90\n"
          ]
        },
        {
          "output_type": "stream",
          "name": "stderr",
          "text": [
            "Loss=0.8394671678543091 Batch_id=390 Accuracy=73.42: 100%|██████████| 391/391 [00:17<00:00, 22.63it/s]\n"
          ]
        },
        {
          "output_type": "stream",
          "name": "stdout",
          "text": [
            "\n",
            "Test set: Average loss: 0.0027, Accuracy: 44180/50000 (88.36%)\n",
            "\n",
            "EPOCH: 91\n"
          ]
        },
        {
          "output_type": "stream",
          "name": "stderr",
          "text": [
            "Loss=0.8302603960037231 Batch_id=390 Accuracy=73.31: 100%|██████████| 391/391 [00:17<00:00, 22.48it/s]\n"
          ]
        },
        {
          "output_type": "stream",
          "name": "stdout",
          "text": [
            "\n",
            "Test set: Average loss: 0.0027, Accuracy: 44081/50000 (88.16%)\n",
            "\n",
            "EPOCH: 92\n"
          ]
        },
        {
          "output_type": "stream",
          "name": "stderr",
          "text": [
            "Loss=0.7618218660354614 Batch_id=390 Accuracy=73.28: 100%|██████████| 391/391 [00:17<00:00, 21.83it/s]\n"
          ]
        },
        {
          "output_type": "stream",
          "name": "stdout",
          "text": [
            "\n",
            "Test set: Average loss: 0.0026, Accuracy: 44194/50000 (88.39%)\n",
            "\n",
            "EPOCH: 93\n"
          ]
        },
        {
          "output_type": "stream",
          "name": "stderr",
          "text": [
            "Loss=0.7848831415176392 Batch_id=390 Accuracy=73.76: 100%|██████████| 391/391 [00:18<00:00, 21.21it/s]\n"
          ]
        },
        {
          "output_type": "stream",
          "name": "stdout",
          "text": [
            "\n",
            "Test set: Average loss: 0.0026, Accuracy: 44234/50000 (88.47%)\n",
            "\n",
            "EPOCH: 94\n"
          ]
        },
        {
          "output_type": "stream",
          "name": "stderr",
          "text": [
            "Loss=0.6605666875839233 Batch_id=390 Accuracy=73.60: 100%|██████████| 391/391 [00:18<00:00, 21.24it/s]\n"
          ]
        },
        {
          "output_type": "stream",
          "name": "stdout",
          "text": [
            "\n",
            "Test set: Average loss: 0.0026, Accuracy: 44333/50000 (88.67%)\n",
            "\n",
            "EPOCH: 95\n"
          ]
        },
        {
          "output_type": "stream",
          "name": "stderr",
          "text": [
            "Loss=0.8495286107063293 Batch_id=390 Accuracy=73.57: 100%|██████████| 391/391 [00:19<00:00, 20.30it/s]\n"
          ]
        },
        {
          "output_type": "stream",
          "name": "stdout",
          "text": [
            "\n",
            "Test set: Average loss: 0.0026, Accuracy: 44293/50000 (88.59%)\n",
            "\n",
            "EPOCH: 96\n"
          ]
        },
        {
          "output_type": "stream",
          "name": "stderr",
          "text": [
            "Loss=0.8369728326797485 Batch_id=390 Accuracy=73.46: 100%|██████████| 391/391 [00:17<00:00, 22.05it/s]\n"
          ]
        },
        {
          "output_type": "stream",
          "name": "stdout",
          "text": [
            "\n",
            "Test set: Average loss: 0.0026, Accuracy: 44180/50000 (88.36%)\n",
            "\n",
            "EPOCH: 97\n"
          ]
        },
        {
          "output_type": "stream",
          "name": "stderr",
          "text": [
            "Loss=0.6901125907897949 Batch_id=390 Accuracy=73.90: 100%|██████████| 391/391 [00:17<00:00, 22.20it/s]\n"
          ]
        },
        {
          "output_type": "stream",
          "name": "stdout",
          "text": [
            "\n",
            "Test set: Average loss: 0.0026, Accuracy: 44350/50000 (88.70%)\n",
            "\n",
            "EPOCH: 98\n"
          ]
        },
        {
          "output_type": "stream",
          "name": "stderr",
          "text": [
            "Loss=0.909676194190979 Batch_id=390 Accuracy=73.50: 100%|██████████| 391/391 [00:17<00:00, 22.31it/s]\n"
          ]
        },
        {
          "output_type": "stream",
          "name": "stdout",
          "text": [
            "\n",
            "Test set: Average loss: 0.0026, Accuracy: 44185/50000 (88.37%)\n",
            "\n",
            "EPOCH: 99\n"
          ]
        },
        {
          "output_type": "stream",
          "name": "stderr",
          "text": [
            "Loss=0.6804737448692322 Batch_id=390 Accuracy=73.68: 100%|██████████| 391/391 [00:18<00:00, 21.51it/s]\n"
          ]
        },
        {
          "output_type": "stream",
          "name": "stdout",
          "text": [
            "\n",
            "Test set: Average loss: 0.0026, Accuracy: 44278/50000 (88.56%)\n",
            "\n",
            "EPOCH: 100\n"
          ]
        },
        {
          "output_type": "stream",
          "name": "stderr",
          "text": [
            "Loss=0.7251627445220947 Batch_id=390 Accuracy=73.90: 100%|██████████| 391/391 [00:18<00:00, 21.29it/s]\n"
          ]
        },
        {
          "output_type": "stream",
          "name": "stdout",
          "text": [
            "\n",
            "Test set: Average loss: 0.0026, Accuracy: 44270/50000 (88.54%)\n",
            "\n",
            "EPOCH: 101\n"
          ]
        },
        {
          "output_type": "stream",
          "name": "stderr",
          "text": [
            "Loss=0.9692034721374512 Batch_id=390 Accuracy=73.91: 100%|██████████| 391/391 [00:18<00:00, 20.70it/s]\n"
          ]
        },
        {
          "output_type": "stream",
          "name": "stdout",
          "text": [
            "\n",
            "Test set: Average loss: 0.0026, Accuracy: 44275/50000 (88.55%)\n",
            "\n",
            "EPOCH: 102\n"
          ]
        },
        {
          "output_type": "stream",
          "name": "stderr",
          "text": [
            "Loss=0.9897476434707642 Batch_id=390 Accuracy=73.99: 100%|██████████| 391/391 [00:17<00:00, 21.92it/s]\n"
          ]
        },
        {
          "output_type": "stream",
          "name": "stdout",
          "text": [
            "\n",
            "Test set: Average loss: 0.0026, Accuracy: 44323/50000 (88.65%)\n",
            "\n",
            "EPOCH: 103\n"
          ]
        },
        {
          "output_type": "stream",
          "name": "stderr",
          "text": [
            "Loss=0.8273954391479492 Batch_id=390 Accuracy=74.35: 100%|██████████| 391/391 [00:17<00:00, 21.82it/s]\n"
          ]
        },
        {
          "output_type": "stream",
          "name": "stdout",
          "text": [
            "\n",
            "Test set: Average loss: 0.0025, Accuracy: 44625/50000 (89.25%)\n",
            "\n",
            "EPOCH: 104\n"
          ]
        },
        {
          "output_type": "stream",
          "name": "stderr",
          "text": [
            "Loss=0.6636887788772583 Batch_id=390 Accuracy=74.07: 100%|██████████| 391/391 [00:18<00:00, 21.68it/s]\n"
          ]
        },
        {
          "output_type": "stream",
          "name": "stdout",
          "text": [
            "\n",
            "Test set: Average loss: 0.0025, Accuracy: 44416/50000 (88.83%)\n",
            "\n",
            "EPOCH: 105\n"
          ]
        },
        {
          "output_type": "stream",
          "name": "stderr",
          "text": [
            "Loss=0.7438744306564331 Batch_id=390 Accuracy=73.97: 100%|██████████| 391/391 [00:18<00:00, 21.60it/s]\n"
          ]
        },
        {
          "output_type": "stream",
          "name": "stdout",
          "text": [
            "\n",
            "Test set: Average loss: 0.0026, Accuracy: 44231/50000 (88.46%)\n",
            "\n",
            "EPOCH: 106\n"
          ]
        },
        {
          "output_type": "stream",
          "name": "stderr",
          "text": [
            "Loss=0.7947908043861389 Batch_id=390 Accuracy=74.36: 100%|██████████| 391/391 [00:18<00:00, 21.20it/s]\n"
          ]
        },
        {
          "output_type": "stream",
          "name": "stdout",
          "text": [
            "\n",
            "Test set: Average loss: 0.0025, Accuracy: 44476/50000 (88.95%)\n",
            "\n",
            "EPOCH: 107\n"
          ]
        },
        {
          "output_type": "stream",
          "name": "stderr",
          "text": [
            "Loss=1.1040806770324707 Batch_id=390 Accuracy=74.18: 100%|██████████| 391/391 [00:18<00:00, 21.23it/s]\n"
          ]
        },
        {
          "output_type": "stream",
          "name": "stdout",
          "text": [
            "\n",
            "Test set: Average loss: 0.0025, Accuracy: 44576/50000 (89.15%)\n",
            "\n",
            "EPOCH: 108\n"
          ]
        },
        {
          "output_type": "stream",
          "name": "stderr",
          "text": [
            "Loss=0.7500588297843933 Batch_id=390 Accuracy=74.20: 100%|██████████| 391/391 [00:18<00:00, 20.81it/s]\n"
          ]
        },
        {
          "output_type": "stream",
          "name": "stdout",
          "text": [
            "\n",
            "Test set: Average loss: 0.0025, Accuracy: 44630/50000 (89.26%)\n",
            "\n",
            "EPOCH: 109\n"
          ]
        },
        {
          "output_type": "stream",
          "name": "stderr",
          "text": [
            "Loss=0.5711361765861511 Batch_id=390 Accuracy=74.09: 100%|██████████| 391/391 [00:17<00:00, 22.40it/s]\n"
          ]
        },
        {
          "output_type": "stream",
          "name": "stdout",
          "text": [
            "\n",
            "Test set: Average loss: 0.0025, Accuracy: 44500/50000 (89.00%)\n",
            "\n",
            "EPOCH: 110\n"
          ]
        },
        {
          "output_type": "stream",
          "name": "stderr",
          "text": [
            "Loss=0.7463518381118774 Batch_id=390 Accuracy=74.26: 100%|██████████| 391/391 [00:17<00:00, 22.34it/s]\n"
          ]
        },
        {
          "output_type": "stream",
          "name": "stdout",
          "text": [
            "\n",
            "Test set: Average loss: 0.0025, Accuracy: 44580/50000 (89.16%)\n",
            "\n",
            "EPOCH: 111\n"
          ]
        },
        {
          "output_type": "stream",
          "name": "stderr",
          "text": [
            "Loss=0.8058812022209167 Batch_id=390 Accuracy=74.26: 100%|██████████| 391/391 [00:17<00:00, 21.76it/s]\n"
          ]
        },
        {
          "output_type": "stream",
          "name": "stdout",
          "text": [
            "\n",
            "Test set: Average loss: 0.0025, Accuracy: 44566/50000 (89.13%)\n",
            "\n",
            "EPOCH: 112\n"
          ]
        },
        {
          "output_type": "stream",
          "name": "stderr",
          "text": [
            "Loss=0.792466938495636 Batch_id=390 Accuracy=74.61: 100%|██████████| 391/391 [00:18<00:00, 20.99it/s]\n"
          ]
        },
        {
          "output_type": "stream",
          "name": "stdout",
          "text": [
            "\n",
            "Test set: Average loss: 0.0025, Accuracy: 44519/50000 (89.04%)\n",
            "\n",
            "EPOCH: 113\n"
          ]
        },
        {
          "output_type": "stream",
          "name": "stderr",
          "text": [
            "Loss=0.8315362930297852 Batch_id=390 Accuracy=74.39: 100%|██████████| 391/391 [00:18<00:00, 21.17it/s]\n"
          ]
        },
        {
          "output_type": "stream",
          "name": "stdout",
          "text": [
            "\n",
            "Test set: Average loss: 0.0024, Accuracy: 44771/50000 (89.54%)\n",
            "\n",
            "EPOCH: 114\n"
          ]
        },
        {
          "output_type": "stream",
          "name": "stderr",
          "text": [
            "Loss=0.5563838481903076 Batch_id=390 Accuracy=74.53: 100%|██████████| 391/391 [00:19<00:00, 20.25it/s]\n"
          ]
        },
        {
          "output_type": "stream",
          "name": "stdout",
          "text": [
            "\n",
            "Test set: Average loss: 0.0024, Accuracy: 44700/50000 (89.40%)\n",
            "\n",
            "EPOCH: 115\n"
          ]
        },
        {
          "output_type": "stream",
          "name": "stderr",
          "text": [
            "Loss=0.8384313583374023 Batch_id=390 Accuracy=74.44: 100%|██████████| 391/391 [00:17<00:00, 21.94it/s]\n"
          ]
        },
        {
          "output_type": "stream",
          "name": "stdout",
          "text": [
            "\n",
            "Test set: Average loss: 0.0024, Accuracy: 44678/50000 (89.36%)\n",
            "\n",
            "EPOCH: 116\n"
          ]
        },
        {
          "output_type": "stream",
          "name": "stderr",
          "text": [
            "Loss=0.7967886924743652 Batch_id=390 Accuracy=74.83: 100%|██████████| 391/391 [00:17<00:00, 21.88it/s]\n"
          ]
        },
        {
          "output_type": "stream",
          "name": "stdout",
          "text": [
            "\n",
            "Test set: Average loss: 0.0024, Accuracy: 44688/50000 (89.38%)\n",
            "\n",
            "EPOCH: 117\n"
          ]
        },
        {
          "output_type": "stream",
          "name": "stderr",
          "text": [
            "Loss=0.8462435007095337 Batch_id=390 Accuracy=74.51: 100%|██████████| 391/391 [00:18<00:00, 21.38it/s]\n"
          ]
        },
        {
          "output_type": "stream",
          "name": "stdout",
          "text": [
            "\n",
            "Test set: Average loss: 0.0023, Accuracy: 44959/50000 (89.92%)\n",
            "\n",
            "EPOCH: 118\n"
          ]
        },
        {
          "output_type": "stream",
          "name": "stderr",
          "text": [
            "Loss=0.5553691387176514 Batch_id=390 Accuracy=74.66: 100%|██████████| 391/391 [00:18<00:00, 21.43it/s]\n"
          ]
        },
        {
          "output_type": "stream",
          "name": "stdout",
          "text": [
            "\n",
            "Test set: Average loss: 0.0023, Accuracy: 44880/50000 (89.76%)\n",
            "\n",
            "EPOCH: 119\n"
          ]
        },
        {
          "output_type": "stream",
          "name": "stderr",
          "text": [
            "Loss=0.8531054258346558 Batch_id=390 Accuracy=74.81: 100%|██████████| 391/391 [00:18<00:00, 21.71it/s]\n"
          ]
        },
        {
          "output_type": "stream",
          "name": "stdout",
          "text": [
            "\n",
            "Test set: Average loss: 0.0024, Accuracy: 44834/50000 (89.67%)\n",
            "\n",
            "EPOCH: 120\n"
          ]
        },
        {
          "output_type": "stream",
          "name": "stderr",
          "text": [
            "Loss=0.467678964138031 Batch_id=390 Accuracy=74.64: 100%|██████████| 391/391 [00:17<00:00, 21.88it/s]\n"
          ]
        },
        {
          "output_type": "stream",
          "name": "stdout",
          "text": [
            "\n",
            "Test set: Average loss: 0.0023, Accuracy: 44865/50000 (89.73%)\n",
            "\n",
            "EPOCH: 121\n"
          ]
        },
        {
          "output_type": "stream",
          "name": "stderr",
          "text": [
            "Loss=0.7026703953742981 Batch_id=390 Accuracy=74.89: 100%|██████████| 391/391 [00:18<00:00, 21.40it/s]\n"
          ]
        },
        {
          "output_type": "stream",
          "name": "stdout",
          "text": [
            "\n",
            "Test set: Average loss: 0.0024, Accuracy: 44732/50000 (89.46%)\n",
            "\n",
            "EPOCH: 122\n"
          ]
        },
        {
          "output_type": "stream",
          "name": "stderr",
          "text": [
            "Loss=0.7264532446861267 Batch_id=390 Accuracy=74.82: 100%|██████████| 391/391 [00:17<00:00, 22.24it/s]\n"
          ]
        },
        {
          "output_type": "stream",
          "name": "stdout",
          "text": [
            "\n",
            "Test set: Average loss: 0.0023, Accuracy: 44863/50000 (89.73%)\n",
            "\n",
            "EPOCH: 123\n"
          ]
        },
        {
          "output_type": "stream",
          "name": "stderr",
          "text": [
            "Loss=0.6173915863037109 Batch_id=390 Accuracy=74.66: 100%|██████████| 391/391 [00:17<00:00, 22.92it/s]\n"
          ]
        },
        {
          "output_type": "stream",
          "name": "stdout",
          "text": [
            "\n",
            "Test set: Average loss: 0.0024, Accuracy: 44853/50000 (89.71%)\n",
            "\n",
            "EPOCH: 124\n"
          ]
        },
        {
          "output_type": "stream",
          "name": "stderr",
          "text": [
            "Loss=0.5354357957839966 Batch_id=390 Accuracy=74.89: 100%|██████████| 391/391 [00:17<00:00, 22.89it/s]\n"
          ]
        },
        {
          "output_type": "stream",
          "name": "stdout",
          "text": [
            "\n",
            "Test set: Average loss: 0.0024, Accuracy: 44813/50000 (89.63%)\n",
            "\n",
            "EPOCH: 125\n"
          ]
        },
        {
          "output_type": "stream",
          "name": "stderr",
          "text": [
            "Loss=0.9273862838745117 Batch_id=390 Accuracy=75.15: 100%|██████████| 391/391 [00:16<00:00, 23.50it/s]\n"
          ]
        },
        {
          "output_type": "stream",
          "name": "stdout",
          "text": [
            "\n",
            "Test set: Average loss: 0.0023, Accuracy: 44927/50000 (89.85%)\n",
            "\n",
            "EPOCH: 126\n"
          ]
        },
        {
          "output_type": "stream",
          "name": "stderr",
          "text": [
            "Loss=0.7286441326141357 Batch_id=390 Accuracy=74.93: 100%|██████████| 391/391 [00:17<00:00, 22.34it/s]\n"
          ]
        },
        {
          "output_type": "stream",
          "name": "stdout",
          "text": [
            "\n",
            "Test set: Average loss: 0.0023, Accuracy: 45027/50000 (90.05%)\n",
            "\n",
            "EPOCH: 127\n"
          ]
        },
        {
          "output_type": "stream",
          "name": "stderr",
          "text": [
            "Loss=0.6584928035736084 Batch_id=390 Accuracy=75.04: 100%|██████████| 391/391 [00:18<00:00, 21.61it/s]\n"
          ]
        },
        {
          "output_type": "stream",
          "name": "stdout",
          "text": [
            "\n",
            "Test set: Average loss: 0.0023, Accuracy: 45046/50000 (90.09%)\n",
            "\n",
            "EPOCH: 128\n"
          ]
        },
        {
          "output_type": "stream",
          "name": "stderr",
          "text": [
            "Loss=0.8651180267333984 Batch_id=390 Accuracy=75.20: 100%|██████████| 391/391 [00:18<00:00, 21.53it/s]\n"
          ]
        },
        {
          "output_type": "stream",
          "name": "stdout",
          "text": [
            "\n",
            "Test set: Average loss: 0.0023, Accuracy: 44894/50000 (89.79%)\n",
            "\n",
            "EPOCH: 129\n"
          ]
        },
        {
          "output_type": "stream",
          "name": "stderr",
          "text": [
            "Loss=0.6431292295455933 Batch_id=390 Accuracy=74.84: 100%|██████████| 391/391 [00:18<00:00, 21.72it/s]\n"
          ]
        },
        {
          "output_type": "stream",
          "name": "stdout",
          "text": [
            "\n",
            "Test set: Average loss: 0.0023, Accuracy: 45024/50000 (90.05%)\n",
            "\n",
            "EPOCH: 130\n"
          ]
        },
        {
          "output_type": "stream",
          "name": "stderr",
          "text": [
            "Loss=0.7513049840927124 Batch_id=390 Accuracy=74.88: 100%|██████████| 391/391 [00:17<00:00, 21.90it/s]\n"
          ]
        },
        {
          "output_type": "stream",
          "name": "stdout",
          "text": [
            "\n",
            "Test set: Average loss: 0.0023, Accuracy: 44957/50000 (89.91%)\n",
            "\n",
            "EPOCH: 131\n"
          ]
        },
        {
          "output_type": "stream",
          "name": "stderr",
          "text": [
            "Loss=0.7328546643257141 Batch_id=390 Accuracy=75.07: 100%|██████████| 391/391 [00:17<00:00, 22.55it/s]\n"
          ]
        },
        {
          "output_type": "stream",
          "name": "stdout",
          "text": [
            "\n",
            "Test set: Average loss: 0.0022, Accuracy: 45093/50000 (90.19%)\n",
            "\n",
            "EPOCH: 132\n"
          ]
        },
        {
          "output_type": "stream",
          "name": "stderr",
          "text": [
            "Loss=0.860740065574646 Batch_id=390 Accuracy=75.09: 100%|██████████| 391/391 [00:17<00:00, 22.03it/s]\n"
          ]
        },
        {
          "output_type": "stream",
          "name": "stdout",
          "text": [
            "\n",
            "Test set: Average loss: 0.0022, Accuracy: 45122/50000 (90.24%)\n",
            "\n",
            "EPOCH: 133\n"
          ]
        },
        {
          "output_type": "stream",
          "name": "stderr",
          "text": [
            "Loss=0.47447124123573303 Batch_id=390 Accuracy=75.23: 100%|██████████| 391/391 [00:17<00:00, 22.37it/s]\n"
          ]
        },
        {
          "output_type": "stream",
          "name": "stdout",
          "text": [
            "\n",
            "Test set: Average loss: 0.0022, Accuracy: 45160/50000 (90.32%)\n",
            "\n",
            "EPOCH: 134\n"
          ]
        },
        {
          "output_type": "stream",
          "name": "stderr",
          "text": [
            "Loss=0.5719941854476929 Batch_id=390 Accuracy=75.27: 100%|██████████| 391/391 [00:17<00:00, 22.57it/s]\n"
          ]
        },
        {
          "output_type": "stream",
          "name": "stdout",
          "text": [
            "\n",
            "Test set: Average loss: 0.0022, Accuracy: 45107/50000 (90.21%)\n",
            "\n",
            "EPOCH: 135\n"
          ]
        },
        {
          "output_type": "stream",
          "name": "stderr",
          "text": [
            "Loss=0.8542083501815796 Batch_id=390 Accuracy=75.02: 100%|██████████| 391/391 [00:16<00:00, 23.44it/s]\n"
          ]
        },
        {
          "output_type": "stream",
          "name": "stdout",
          "text": [
            "\n",
            "Test set: Average loss: 0.0023, Accuracy: 45061/50000 (90.12%)\n",
            "\n",
            "EPOCH: 136\n"
          ]
        },
        {
          "output_type": "stream",
          "name": "stderr",
          "text": [
            "Loss=0.813823401927948 Batch_id=390 Accuracy=75.59: 100%|██████████| 391/391 [00:16<00:00, 23.79it/s]\n"
          ]
        },
        {
          "output_type": "stream",
          "name": "stdout",
          "text": [
            "\n",
            "Test set: Average loss: 0.0023, Accuracy: 44875/50000 (89.75%)\n",
            "\n",
            "EPOCH: 137\n"
          ]
        },
        {
          "output_type": "stream",
          "name": "stderr",
          "text": [
            "Loss=0.6082226634025574 Batch_id=390 Accuracy=75.24: 100%|██████████| 391/391 [00:16<00:00, 24.04it/s]\n"
          ]
        },
        {
          "output_type": "stream",
          "name": "stdout",
          "text": [
            "\n",
            "Test set: Average loss: 0.0022, Accuracy: 45168/50000 (90.34%)\n",
            "\n",
            "EPOCH: 138\n"
          ]
        },
        {
          "output_type": "stream",
          "name": "stderr",
          "text": [
            "Loss=0.6364578008651733 Batch_id=390 Accuracy=75.22: 100%|██████████| 391/391 [00:16<00:00, 23.89it/s]\n"
          ]
        },
        {
          "output_type": "stream",
          "name": "stdout",
          "text": [
            "\n",
            "Test set: Average loss: 0.0022, Accuracy: 45149/50000 (90.30%)\n",
            "\n",
            "EPOCH: 139\n"
          ]
        },
        {
          "output_type": "stream",
          "name": "stderr",
          "text": [
            "Loss=0.760826826095581 Batch_id=390 Accuracy=75.27: 100%|██████████| 391/391 [00:16<00:00, 24.14it/s]\n"
          ]
        },
        {
          "output_type": "stream",
          "name": "stdout",
          "text": [
            "\n",
            "Test set: Average loss: 0.0022, Accuracy: 45268/50000 (90.54%)\n",
            "\n",
            "EPOCH: 140\n"
          ]
        },
        {
          "output_type": "stream",
          "name": "stderr",
          "text": [
            "Loss=0.9328159093856812 Batch_id=390 Accuracy=75.40: 100%|██████████| 391/391 [00:17<00:00, 22.37it/s]\n"
          ]
        },
        {
          "output_type": "stream",
          "name": "stdout",
          "text": [
            "\n",
            "Test set: Average loss: 0.0021, Accuracy: 45374/50000 (90.75%)\n",
            "\n",
            "EPOCH: 141\n"
          ]
        },
        {
          "output_type": "stream",
          "name": "stderr",
          "text": [
            "Loss=0.8959890604019165 Batch_id=390 Accuracy=75.60: 100%|██████████| 391/391 [00:16<00:00, 24.00it/s]\n"
          ]
        },
        {
          "output_type": "stream",
          "name": "stdout",
          "text": [
            "\n",
            "Test set: Average loss: 0.0021, Accuracy: 45316/50000 (90.63%)\n",
            "\n",
            "EPOCH: 142\n"
          ]
        },
        {
          "output_type": "stream",
          "name": "stderr",
          "text": [
            "Loss=0.8380904197692871 Batch_id=390 Accuracy=75.53: 100%|██████████| 391/391 [00:16<00:00, 24.05it/s]\n"
          ]
        },
        {
          "output_type": "stream",
          "name": "stdout",
          "text": [
            "\n",
            "Test set: Average loss: 0.0022, Accuracy: 45239/50000 (90.48%)\n",
            "\n",
            "EPOCH: 143\n"
          ]
        },
        {
          "output_type": "stream",
          "name": "stderr",
          "text": [
            "Loss=0.697749674320221 Batch_id=390 Accuracy=75.41: 100%|██████████| 391/391 [00:17<00:00, 22.58it/s]\n"
          ]
        },
        {
          "output_type": "stream",
          "name": "stdout",
          "text": [
            "\n",
            "Test set: Average loss: 0.0022, Accuracy: 45227/50000 (90.45%)\n",
            "\n",
            "EPOCH: 144\n"
          ]
        },
        {
          "output_type": "stream",
          "name": "stderr",
          "text": [
            "Loss=0.6556462645530701 Batch_id=390 Accuracy=75.54: 100%|██████████| 391/391 [00:16<00:00, 23.09it/s]\n"
          ]
        },
        {
          "output_type": "stream",
          "name": "stdout",
          "text": [
            "\n",
            "Test set: Average loss: 0.0022, Accuracy: 45207/50000 (90.41%)\n",
            "\n",
            "EPOCH: 145\n"
          ]
        },
        {
          "output_type": "stream",
          "name": "stderr",
          "text": [
            "Loss=0.6064516305923462 Batch_id=390 Accuracy=75.15: 100%|██████████| 391/391 [00:16<00:00, 24.07it/s]\n"
          ]
        },
        {
          "output_type": "stream",
          "name": "stdout",
          "text": [
            "\n",
            "Test set: Average loss: 0.0021, Accuracy: 45415/50000 (90.83%)\n",
            "\n",
            "EPOCH: 146\n"
          ]
        },
        {
          "output_type": "stream",
          "name": "stderr",
          "text": [
            "Loss=0.5199799537658691 Batch_id=390 Accuracy=75.63: 100%|██████████| 391/391 [00:16<00:00, 24.26it/s]\n"
          ]
        },
        {
          "output_type": "stream",
          "name": "stdout",
          "text": [
            "\n",
            "Test set: Average loss: 0.0021, Accuracy: 45479/50000 (90.96%)\n",
            "\n",
            "EPOCH: 147\n"
          ]
        },
        {
          "output_type": "stream",
          "name": "stderr",
          "text": [
            "Loss=0.8432174921035767 Batch_id=390 Accuracy=75.59: 100%|██████████| 391/391 [00:16<00:00, 24.26it/s]\n"
          ]
        },
        {
          "output_type": "stream",
          "name": "stdout",
          "text": [
            "\n",
            "Test set: Average loss: 0.0021, Accuracy: 45313/50000 (90.63%)\n",
            "\n",
            "EPOCH: 148\n"
          ]
        },
        {
          "output_type": "stream",
          "name": "stderr",
          "text": [
            "Loss=0.6849509477615356 Batch_id=390 Accuracy=75.93: 100%|██████████| 391/391 [00:16<00:00, 24.25it/s]\n"
          ]
        },
        {
          "output_type": "stream",
          "name": "stdout",
          "text": [
            "\n",
            "Test set: Average loss: 0.0021, Accuracy: 45385/50000 (90.77%)\n",
            "\n",
            "EPOCH: 149\n"
          ]
        },
        {
          "output_type": "stream",
          "name": "stderr",
          "text": [
            "Loss=0.9483348727226257 Batch_id=390 Accuracy=75.78: 100%|██████████| 391/391 [00:16<00:00, 24.08it/s]\n"
          ]
        },
        {
          "output_type": "stream",
          "name": "stdout",
          "text": [
            "\n",
            "Test set: Average loss: 0.0021, Accuracy: 45449/50000 (90.90%)\n",
            "\n",
            "EPOCH: 150\n"
          ]
        },
        {
          "output_type": "stream",
          "name": "stderr",
          "text": [
            "Loss=0.7243442535400391 Batch_id=390 Accuracy=75.59: 100%|██████████| 391/391 [00:16<00:00, 23.02it/s]\n"
          ]
        },
        {
          "output_type": "stream",
          "name": "stdout",
          "text": [
            "\n",
            "Test set: Average loss: 0.0021, Accuracy: 45453/50000 (90.91%)\n",
            "\n",
            "EPOCH: 151\n"
          ]
        },
        {
          "output_type": "stream",
          "name": "stderr",
          "text": [
            "Loss=0.8099309206008911 Batch_id=390 Accuracy=75.55: 100%|██████████| 391/391 [00:16<00:00, 23.62it/s]\n"
          ]
        },
        {
          "output_type": "stream",
          "name": "stdout",
          "text": [
            "\n",
            "Test set: Average loss: 0.0022, Accuracy: 45196/50000 (90.39%)\n",
            "\n",
            "EPOCH: 152\n"
          ]
        },
        {
          "output_type": "stream",
          "name": "stderr",
          "text": [
            "Loss=0.7778090834617615 Batch_id=390 Accuracy=75.92: 100%|██████████| 391/391 [00:16<00:00, 24.26it/s]\n"
          ]
        },
        {
          "output_type": "stream",
          "name": "stdout",
          "text": [
            "\n",
            "Test set: Average loss: 0.0021, Accuracy: 45422/50000 (90.84%)\n",
            "\n",
            "EPOCH: 153\n"
          ]
        },
        {
          "output_type": "stream",
          "name": "stderr",
          "text": [
            "Loss=0.583936333656311 Batch_id=390 Accuracy=75.78: 100%|██████████| 391/391 [00:16<00:00, 24.11it/s]\n"
          ]
        },
        {
          "output_type": "stream",
          "name": "stdout",
          "text": [
            "\n",
            "Test set: Average loss: 0.0021, Accuracy: 45342/50000 (90.68%)\n",
            "\n",
            "EPOCH: 154\n"
          ]
        },
        {
          "output_type": "stream",
          "name": "stderr",
          "text": [
            "Loss=0.7747195959091187 Batch_id=390 Accuracy=76.15: 100%|██████████| 391/391 [00:16<00:00, 24.39it/s]\n"
          ]
        },
        {
          "output_type": "stream",
          "name": "stdout",
          "text": [
            "\n",
            "Test set: Average loss: 0.0021, Accuracy: 45532/50000 (91.06%)\n",
            "\n",
            "EPOCH: 155\n"
          ]
        },
        {
          "output_type": "stream",
          "name": "stderr",
          "text": [
            "Loss=0.7131379842758179 Batch_id=390 Accuracy=75.96: 100%|██████████| 391/391 [00:15<00:00, 24.48it/s]\n"
          ]
        },
        {
          "output_type": "stream",
          "name": "stdout",
          "text": [
            "\n",
            "Test set: Average loss: 0.0021, Accuracy: 45522/50000 (91.04%)\n",
            "\n",
            "EPOCH: 156\n"
          ]
        },
        {
          "output_type": "stream",
          "name": "stderr",
          "text": [
            "Loss=0.8241327404975891 Batch_id=390 Accuracy=75.88: 100%|██████████| 391/391 [00:17<00:00, 22.81it/s]\n"
          ]
        },
        {
          "output_type": "stream",
          "name": "stdout",
          "text": [
            "\n",
            "Test set: Average loss: 0.0021, Accuracy: 45421/50000 (90.84%)\n",
            "\n",
            "EPOCH: 157\n"
          ]
        },
        {
          "output_type": "stream",
          "name": "stderr",
          "text": [
            "Loss=0.7193752527236938 Batch_id=390 Accuracy=75.59: 100%|██████████| 391/391 [00:16<00:00, 23.47it/s]\n"
          ]
        },
        {
          "output_type": "stream",
          "name": "stdout",
          "text": [
            "\n",
            "Test set: Average loss: 0.0020, Accuracy: 45616/50000 (91.23%)\n",
            "\n",
            "EPOCH: 158\n"
          ]
        },
        {
          "output_type": "stream",
          "name": "stderr",
          "text": [
            "Loss=0.887294590473175 Batch_id=390 Accuracy=76.03: 100%|██████████| 391/391 [00:16<00:00, 23.34it/s]\n"
          ]
        },
        {
          "output_type": "stream",
          "name": "stdout",
          "text": [
            "\n",
            "Test set: Average loss: 0.0021, Accuracy: 45636/50000 (91.27%)\n",
            "\n",
            "EPOCH: 159\n"
          ]
        },
        {
          "output_type": "stream",
          "name": "stderr",
          "text": [
            "Loss=0.6032622456550598 Batch_id=390 Accuracy=75.86: 100%|██████████| 391/391 [00:16<00:00, 24.05it/s]\n"
          ]
        },
        {
          "output_type": "stream",
          "name": "stdout",
          "text": [
            "\n",
            "Test set: Average loss: 0.0020, Accuracy: 45552/50000 (91.10%)\n",
            "\n",
            "EPOCH: 160\n"
          ]
        },
        {
          "output_type": "stream",
          "name": "stderr",
          "text": [
            "Loss=0.538081705570221 Batch_id=390 Accuracy=76.29: 100%|██████████| 391/391 [00:16<00:00, 24.13it/s]\n"
          ]
        },
        {
          "output_type": "stream",
          "name": "stdout",
          "text": [
            "\n",
            "Test set: Average loss: 0.0020, Accuracy: 45623/50000 (91.25%)\n",
            "\n",
            "EPOCH: 161\n"
          ]
        },
        {
          "output_type": "stream",
          "name": "stderr",
          "text": [
            "Loss=0.6953930854797363 Batch_id=390 Accuracy=75.84: 100%|██████████| 391/391 [00:16<00:00, 23.97it/s]\n"
          ]
        },
        {
          "output_type": "stream",
          "name": "stdout",
          "text": [
            "\n",
            "Test set: Average loss: 0.0020, Accuracy: 45628/50000 (91.26%)\n",
            "\n",
            "EPOCH: 162\n"
          ]
        },
        {
          "output_type": "stream",
          "name": "stderr",
          "text": [
            "Loss=0.5785141587257385 Batch_id=390 Accuracy=76.05: 100%|██████████| 391/391 [00:16<00:00, 24.42it/s]\n"
          ]
        },
        {
          "output_type": "stream",
          "name": "stdout",
          "text": [
            "\n",
            "Test set: Average loss: 0.0020, Accuracy: 45573/50000 (91.15%)\n",
            "\n",
            "EPOCH: 163\n"
          ]
        },
        {
          "output_type": "stream",
          "name": "stderr",
          "text": [
            "Loss=0.6472465395927429 Batch_id=390 Accuracy=76.19: 100%|██████████| 391/391 [00:16<00:00, 23.04it/s]\n"
          ]
        },
        {
          "output_type": "stream",
          "name": "stdout",
          "text": [
            "\n",
            "Test set: Average loss: 0.0020, Accuracy: 45706/50000 (91.41%)\n",
            "\n",
            "EPOCH: 164\n"
          ]
        },
        {
          "output_type": "stream",
          "name": "stderr",
          "text": [
            "Loss=0.6924925446510315 Batch_id=390 Accuracy=76.16: 100%|██████████| 391/391 [00:16<00:00, 23.64it/s]\n"
          ]
        },
        {
          "output_type": "stream",
          "name": "stdout",
          "text": [
            "\n",
            "Test set: Average loss: 0.0020, Accuracy: 45702/50000 (91.40%)\n",
            "\n",
            "EPOCH: 165\n"
          ]
        },
        {
          "output_type": "stream",
          "name": "stderr",
          "text": [
            "Loss=0.6523770689964294 Batch_id=390 Accuracy=76.04: 100%|██████████| 391/391 [00:17<00:00, 22.68it/s]\n"
          ]
        },
        {
          "output_type": "stream",
          "name": "stdout",
          "text": [
            "\n",
            "Test set: Average loss: 0.0020, Accuracy: 45617/50000 (91.23%)\n",
            "\n",
            "EPOCH: 166\n"
          ]
        },
        {
          "output_type": "stream",
          "name": "stderr",
          "text": [
            "Loss=0.6313359141349792 Batch_id=390 Accuracy=76.08: 100%|██████████| 391/391 [00:16<00:00, 23.24it/s]\n"
          ]
        },
        {
          "output_type": "stream",
          "name": "stdout",
          "text": [
            "\n",
            "Test set: Average loss: 0.0020, Accuracy: 45779/50000 (91.56%)\n",
            "\n",
            "EPOCH: 167\n"
          ]
        },
        {
          "output_type": "stream",
          "name": "stderr",
          "text": [
            "Loss=0.7070986032485962 Batch_id=390 Accuracy=76.05: 100%|██████████| 391/391 [00:16<00:00, 23.94it/s]\n"
          ]
        },
        {
          "output_type": "stream",
          "name": "stdout",
          "text": [
            "\n",
            "Test set: Average loss: 0.0020, Accuracy: 45647/50000 (91.29%)\n",
            "\n",
            "EPOCH: 168\n"
          ]
        },
        {
          "output_type": "stream",
          "name": "stderr",
          "text": [
            "Loss=0.778542697429657 Batch_id=390 Accuracy=76.01: 100%|██████████| 391/391 [00:16<00:00, 24.14it/s]\n"
          ]
        },
        {
          "output_type": "stream",
          "name": "stdout",
          "text": [
            "\n",
            "Test set: Average loss: 0.0020, Accuracy: 45738/50000 (91.48%)\n",
            "\n",
            "EPOCH: 169\n"
          ]
        },
        {
          "output_type": "stream",
          "name": "stderr",
          "text": [
            "Loss=0.8711274266242981 Batch_id=390 Accuracy=76.29: 100%|██████████| 391/391 [00:16<00:00, 23.91it/s]\n"
          ]
        },
        {
          "output_type": "stream",
          "name": "stdout",
          "text": [
            "\n",
            "Test set: Average loss: 0.0020, Accuracy: 45684/50000 (91.37%)\n",
            "\n",
            "EPOCH: 170\n"
          ]
        },
        {
          "output_type": "stream",
          "name": "stderr",
          "text": [
            "Loss=0.6394324898719788 Batch_id=390 Accuracy=76.10: 100%|██████████| 391/391 [00:17<00:00, 22.67it/s]\n"
          ]
        },
        {
          "output_type": "stream",
          "name": "stdout",
          "text": [
            "\n",
            "Test set: Average loss: 0.0020, Accuracy: 45775/50000 (91.55%)\n",
            "\n",
            "EPOCH: 171\n"
          ]
        },
        {
          "output_type": "stream",
          "name": "stderr",
          "text": [
            "Loss=0.6149982810020447 Batch_id=390 Accuracy=76.24: 100%|██████████| 391/391 [00:16<00:00, 23.97it/s]\n"
          ]
        },
        {
          "output_type": "stream",
          "name": "stdout",
          "text": [
            "\n",
            "Test set: Average loss: 0.0019, Accuracy: 45912/50000 (91.82%)\n",
            "\n",
            "EPOCH: 172\n"
          ]
        },
        {
          "output_type": "stream",
          "name": "stderr",
          "text": [
            "Loss=0.41278424859046936 Batch_id=390 Accuracy=76.39: 100%|██████████| 391/391 [00:16<00:00, 23.92it/s]\n"
          ]
        },
        {
          "output_type": "stream",
          "name": "stdout",
          "text": [
            "\n",
            "Test set: Average loss: 0.0019, Accuracy: 45760/50000 (91.52%)\n",
            "\n",
            "EPOCH: 173\n"
          ]
        },
        {
          "output_type": "stream",
          "name": "stderr",
          "text": [
            "Loss=0.6017099618911743 Batch_id=390 Accuracy=75.99: 100%|██████████| 391/391 [00:17<00:00, 22.87it/s]\n"
          ]
        },
        {
          "output_type": "stream",
          "name": "stdout",
          "text": [
            "\n",
            "Test set: Average loss: 0.0020, Accuracy: 45797/50000 (91.59%)\n",
            "\n",
            "EPOCH: 174\n"
          ]
        },
        {
          "output_type": "stream",
          "name": "stderr",
          "text": [
            "Loss=0.7446426153182983 Batch_id=390 Accuracy=76.14: 100%|██████████| 391/391 [00:16<00:00, 23.69it/s]\n"
          ]
        },
        {
          "output_type": "stream",
          "name": "stdout",
          "text": [
            "\n",
            "Test set: Average loss: 0.0019, Accuracy: 45899/50000 (91.80%)\n",
            "\n",
            "EPOCH: 175\n"
          ]
        },
        {
          "output_type": "stream",
          "name": "stderr",
          "text": [
            "Loss=0.6772804260253906 Batch_id=390 Accuracy=76.60: 100%|██████████| 391/391 [00:15<00:00, 24.59it/s]\n"
          ]
        },
        {
          "output_type": "stream",
          "name": "stdout",
          "text": [
            "\n",
            "Test set: Average loss: 0.0019, Accuracy: 45901/50000 (91.80%)\n",
            "\n",
            "EPOCH: 176\n"
          ]
        },
        {
          "output_type": "stream",
          "name": "stderr",
          "text": [
            "Loss=0.6740140914916992 Batch_id=390 Accuracy=76.34: 100%|██████████| 391/391 [00:15<00:00, 24.74it/s]\n"
          ]
        },
        {
          "output_type": "stream",
          "name": "stdout",
          "text": [
            "\n",
            "Test set: Average loss: 0.0020, Accuracy: 45582/50000 (91.16%)\n",
            "\n",
            "EPOCH: 177\n"
          ]
        },
        {
          "output_type": "stream",
          "name": "stderr",
          "text": [
            "Loss=0.4862445890903473 Batch_id=390 Accuracy=76.36: 100%|██████████| 391/391 [00:16<00:00, 24.15it/s]\n"
          ]
        },
        {
          "output_type": "stream",
          "name": "stdout",
          "text": [
            "\n",
            "Test set: Average loss: 0.0019, Accuracy: 45820/50000 (91.64%)\n",
            "\n",
            "EPOCH: 178\n"
          ]
        },
        {
          "output_type": "stream",
          "name": "stderr",
          "text": [
            "Loss=0.6633459329605103 Batch_id=390 Accuracy=76.40: 100%|██████████| 391/391 [00:16<00:00, 24.18it/s]\n"
          ]
        },
        {
          "output_type": "stream",
          "name": "stdout",
          "text": [
            "\n",
            "Test set: Average loss: 0.0019, Accuracy: 45931/50000 (91.86%)\n",
            "\n",
            "EPOCH: 179\n"
          ]
        },
        {
          "output_type": "stream",
          "name": "stderr",
          "text": [
            "Loss=0.9002611041069031 Batch_id=390 Accuracy=76.29: 100%|██████████| 391/391 [00:16<00:00, 23.98it/s]\n"
          ]
        },
        {
          "output_type": "stream",
          "name": "stdout",
          "text": [
            "\n",
            "Test set: Average loss: 0.0019, Accuracy: 45966/50000 (91.93%)\n",
            "\n",
            "EPOCH: 180\n"
          ]
        },
        {
          "output_type": "stream",
          "name": "stderr",
          "text": [
            "Loss=0.5232966542243958 Batch_id=390 Accuracy=76.84: 100%|██████████| 391/391 [00:16<00:00, 23.42it/s]\n"
          ]
        },
        {
          "output_type": "stream",
          "name": "stdout",
          "text": [
            "\n",
            "Test set: Average loss: 0.0019, Accuracy: 45896/50000 (91.79%)\n",
            "\n",
            "EPOCH: 181\n"
          ]
        },
        {
          "output_type": "stream",
          "name": "stderr",
          "text": [
            "Loss=0.6532136797904968 Batch_id=390 Accuracy=76.40: 100%|██████████| 391/391 [00:15<00:00, 24.49it/s]\n"
          ]
        },
        {
          "output_type": "stream",
          "name": "stdout",
          "text": [
            "\n",
            "Test set: Average loss: 0.0019, Accuracy: 45780/50000 (91.56%)\n",
            "\n",
            "EPOCH: 182\n"
          ]
        },
        {
          "output_type": "stream",
          "name": "stderr",
          "text": [
            "Loss=0.6085208058357239 Batch_id=390 Accuracy=76.55: 100%|██████████| 391/391 [00:16<00:00, 24.10it/s]\n"
          ]
        },
        {
          "output_type": "stream",
          "name": "stdout",
          "text": [
            "\n",
            "Test set: Average loss: 0.0019, Accuracy: 45816/50000 (91.63%)\n",
            "\n",
            "EPOCH: 183\n"
          ]
        },
        {
          "output_type": "stream",
          "name": "stderr",
          "text": [
            "Loss=0.8015060424804688 Batch_id=390 Accuracy=76.54: 100%|██████████| 391/391 [00:16<00:00, 24.31it/s]\n"
          ]
        },
        {
          "output_type": "stream",
          "name": "stdout",
          "text": [
            "\n",
            "Test set: Average loss: 0.0019, Accuracy: 45944/50000 (91.89%)\n",
            "\n",
            "EPOCH: 184\n"
          ]
        },
        {
          "output_type": "stream",
          "name": "stderr",
          "text": [
            "Loss=0.9377439618110657 Batch_id=390 Accuracy=76.27: 100%|██████████| 391/391 [00:15<00:00, 24.49it/s]\n"
          ]
        },
        {
          "output_type": "stream",
          "name": "stdout",
          "text": [
            "\n",
            "Test set: Average loss: 0.0018, Accuracy: 45989/50000 (91.98%)\n",
            "\n",
            "EPOCH: 185\n"
          ]
        },
        {
          "output_type": "stream",
          "name": "stderr",
          "text": [
            "Loss=0.567264199256897 Batch_id=390 Accuracy=76.56: 100%|██████████| 391/391 [00:16<00:00, 23.28it/s]\n"
          ]
        },
        {
          "output_type": "stream",
          "name": "stdout",
          "text": [
            "\n",
            "Test set: Average loss: 0.0018, Accuracy: 46082/50000 (92.16%)\n",
            "\n",
            "EPOCH: 186\n"
          ]
        },
        {
          "output_type": "stream",
          "name": "stderr",
          "text": [
            "Loss=0.6796914339065552 Batch_id=390 Accuracy=76.66: 100%|██████████| 391/391 [00:16<00:00, 23.08it/s]\n"
          ]
        },
        {
          "output_type": "stream",
          "name": "stdout",
          "text": [
            "\n",
            "Test set: Average loss: 0.0019, Accuracy: 45779/50000 (91.56%)\n",
            "\n",
            "EPOCH: 187\n"
          ]
        },
        {
          "output_type": "stream",
          "name": "stderr",
          "text": [
            "Loss=0.7212989926338196 Batch_id=390 Accuracy=76.72: 100%|██████████| 391/391 [00:16<00:00, 24.32it/s]\n"
          ]
        },
        {
          "output_type": "stream",
          "name": "stdout",
          "text": [
            "\n",
            "Test set: Average loss: 0.0019, Accuracy: 45803/50000 (91.61%)\n",
            "\n",
            "EPOCH: 188\n"
          ]
        },
        {
          "output_type": "stream",
          "name": "stderr",
          "text": [
            "Loss=0.6014547944068909 Batch_id=390 Accuracy=76.84: 100%|██████████| 391/391 [00:15<00:00, 24.48it/s]\n"
          ]
        },
        {
          "output_type": "stream",
          "name": "stdout",
          "text": [
            "\n",
            "Test set: Average loss: 0.0019, Accuracy: 45989/50000 (91.98%)\n",
            "\n",
            "EPOCH: 189\n"
          ]
        },
        {
          "output_type": "stream",
          "name": "stderr",
          "text": [
            "Loss=0.6651408672332764 Batch_id=390 Accuracy=76.93: 100%|██████████| 391/391 [00:15<00:00, 24.52it/s]\n"
          ]
        },
        {
          "output_type": "stream",
          "name": "stdout",
          "text": [
            "\n",
            "Test set: Average loss: 0.0019, Accuracy: 45991/50000 (91.98%)\n",
            "\n",
            "EPOCH: 190\n"
          ]
        },
        {
          "output_type": "stream",
          "name": "stderr",
          "text": [
            "Loss=0.6069599390029907 Batch_id=390 Accuracy=76.78: 100%|██████████| 391/391 [00:16<00:00, 24.08it/s]\n"
          ]
        },
        {
          "output_type": "stream",
          "name": "stdout",
          "text": [
            "\n",
            "Test set: Average loss: 0.0019, Accuracy: 45816/50000 (91.63%)\n",
            "\n",
            "EPOCH: 191\n"
          ]
        },
        {
          "output_type": "stream",
          "name": "stderr",
          "text": [
            "Loss=0.6506263017654419 Batch_id=390 Accuracy=76.87: 100%|██████████| 391/391 [00:16<00:00, 24.22it/s]\n"
          ]
        },
        {
          "output_type": "stream",
          "name": "stdout",
          "text": [
            "\n",
            "Test set: Average loss: 0.0018, Accuracy: 46010/50000 (92.02%)\n",
            "\n",
            "EPOCH: 192\n"
          ]
        },
        {
          "output_type": "stream",
          "name": "stderr",
          "text": [
            "Loss=0.7877770662307739 Batch_id=390 Accuracy=76.44: 100%|██████████| 391/391 [00:17<00:00, 21.98it/s]\n"
          ]
        },
        {
          "output_type": "stream",
          "name": "stdout",
          "text": [
            "\n",
            "Test set: Average loss: 0.0019, Accuracy: 46017/50000 (92.03%)\n",
            "\n",
            "EPOCH: 193\n"
          ]
        },
        {
          "output_type": "stream",
          "name": "stderr",
          "text": [
            "Loss=0.4363122582435608 Batch_id=390 Accuracy=76.59: 100%|██████████| 391/391 [00:16<00:00, 24.04it/s]\n"
          ]
        },
        {
          "output_type": "stream",
          "name": "stdout",
          "text": [
            "\n",
            "Test set: Average loss: 0.0018, Accuracy: 46097/50000 (92.19%)\n",
            "\n",
            "EPOCH: 194\n"
          ]
        },
        {
          "output_type": "stream",
          "name": "stderr",
          "text": [
            "Loss=0.7170293927192688 Batch_id=390 Accuracy=76.68: 100%|██████████| 391/391 [00:15<00:00, 24.50it/s]\n"
          ]
        },
        {
          "output_type": "stream",
          "name": "stdout",
          "text": [
            "\n",
            "Test set: Average loss: 0.0018, Accuracy: 46120/50000 (92.24%)\n",
            "\n",
            "EPOCH: 195\n"
          ]
        },
        {
          "output_type": "stream",
          "name": "stderr",
          "text": [
            "Loss=0.6589190363883972 Batch_id=390 Accuracy=77.03: 100%|██████████| 391/391 [00:16<00:00, 24.25it/s]\n"
          ]
        },
        {
          "output_type": "stream",
          "name": "stdout",
          "text": [
            "\n",
            "Test set: Average loss: 0.0019, Accuracy: 46042/50000 (92.08%)\n",
            "\n",
            "EPOCH: 196\n"
          ]
        },
        {
          "output_type": "stream",
          "name": "stderr",
          "text": [
            "Loss=0.9408565759658813 Batch_id=390 Accuracy=76.83: 100%|██████████| 391/391 [00:16<00:00, 24.32it/s]\n"
          ]
        },
        {
          "output_type": "stream",
          "name": "stdout",
          "text": [
            "\n",
            "Test set: Average loss: 0.0018, Accuracy: 46041/50000 (92.08%)\n",
            "\n",
            "EPOCH: 197\n"
          ]
        },
        {
          "output_type": "stream",
          "name": "stderr",
          "text": [
            "Loss=0.6983479261398315 Batch_id=390 Accuracy=77.09: 100%|██████████| 391/391 [00:16<00:00, 24.32it/s]\n"
          ]
        },
        {
          "output_type": "stream",
          "name": "stdout",
          "text": [
            "\n",
            "Test set: Average loss: 0.0018, Accuracy: 46185/50000 (92.37%)\n",
            "\n",
            "EPOCH: 198\n"
          ]
        },
        {
          "output_type": "stream",
          "name": "stderr",
          "text": [
            "Loss=0.5650685429573059 Batch_id=390 Accuracy=76.96: 100%|██████████| 391/391 [00:16<00:00, 23.44it/s]\n"
          ]
        },
        {
          "output_type": "stream",
          "name": "stdout",
          "text": [
            "\n",
            "Test set: Average loss: 0.0018, Accuracy: 46145/50000 (92.29%)\n",
            "\n",
            "EPOCH: 199\n"
          ]
        },
        {
          "output_type": "stream",
          "name": "stderr",
          "text": [
            "Loss=0.6664335131645203 Batch_id=390 Accuracy=76.80: 100%|██████████| 391/391 [00:17<00:00, 22.30it/s]\n"
          ]
        },
        {
          "output_type": "stream",
          "name": "stdout",
          "text": [
            "\n",
            "Test set: Average loss: 0.0018, Accuracy: 46161/50000 (92.32%)\n",
            "\n",
            "EPOCH: 200\n"
          ]
        },
        {
          "output_type": "stream",
          "name": "stderr",
          "text": [
            "Loss=0.639912486076355 Batch_id=390 Accuracy=76.81: 100%|██████████| 391/391 [00:16<00:00, 24.34it/s]\n"
          ]
        },
        {
          "output_type": "stream",
          "name": "stdout",
          "text": [
            "\n",
            "Test set: Average loss: 0.0018, Accuracy: 46228/50000 (92.46%)\n",
            "\n",
            "EPOCH: 201\n"
          ]
        },
        {
          "output_type": "stream",
          "name": "stderr",
          "text": [
            "Loss=0.8685300946235657 Batch_id=390 Accuracy=76.92: 100%|██████████| 391/391 [00:15<00:00, 24.54it/s]\n"
          ]
        },
        {
          "output_type": "stream",
          "name": "stdout",
          "text": [
            "\n",
            "Test set: Average loss: 0.0018, Accuracy: 46180/50000 (92.36%)\n",
            "\n",
            "EPOCH: 202\n"
          ]
        },
        {
          "output_type": "stream",
          "name": "stderr",
          "text": [
            "Loss=0.6459400653839111 Batch_id=390 Accuracy=76.88: 100%|██████████| 391/391 [00:16<00:00, 24.36it/s]\n"
          ]
        },
        {
          "output_type": "stream",
          "name": "stdout",
          "text": [
            "\n",
            "Test set: Average loss: 0.0018, Accuracy: 46085/50000 (92.17%)\n",
            "\n",
            "EPOCH: 203\n"
          ]
        },
        {
          "output_type": "stream",
          "name": "stderr",
          "text": [
            "Loss=0.6506957411766052 Batch_id=390 Accuracy=76.77: 100%|██████████| 391/391 [00:16<00:00, 24.13it/s]\n"
          ]
        },
        {
          "output_type": "stream",
          "name": "stdout",
          "text": [
            "\n",
            "Test set: Average loss: 0.0018, Accuracy: 46083/50000 (92.17%)\n",
            "\n",
            "EPOCH: 204\n"
          ]
        },
        {
          "output_type": "stream",
          "name": "stderr",
          "text": [
            "Loss=0.7630951404571533 Batch_id=390 Accuracy=76.83: 100%|██████████| 391/391 [00:16<00:00, 24.08it/s]\n"
          ]
        },
        {
          "output_type": "stream",
          "name": "stdout",
          "text": [
            "\n",
            "Test set: Average loss: 0.0017, Accuracy: 46227/50000 (92.45%)\n",
            "\n",
            "EPOCH: 205\n"
          ]
        },
        {
          "output_type": "stream",
          "name": "stderr",
          "text": [
            "Loss=0.614599347114563 Batch_id=390 Accuracy=76.92: 100%|██████████| 391/391 [00:16<00:00, 23.32it/s]\n"
          ]
        },
        {
          "output_type": "stream",
          "name": "stdout",
          "text": [
            "\n",
            "Test set: Average loss: 0.0018, Accuracy: 46076/50000 (92.15%)\n",
            "\n",
            "EPOCH: 206\n"
          ]
        },
        {
          "output_type": "stream",
          "name": "stderr",
          "text": [
            "Loss=0.5169425010681152 Batch_id=390 Accuracy=77.21: 100%|██████████| 391/391 [00:16<00:00, 24.31it/s]\n"
          ]
        },
        {
          "output_type": "stream",
          "name": "stdout",
          "text": [
            "\n",
            "Test set: Average loss: 0.0018, Accuracy: 46194/50000 (92.39%)\n",
            "\n",
            "EPOCH: 207\n"
          ]
        },
        {
          "output_type": "stream",
          "name": "stderr",
          "text": [
            "Loss=0.5176161527633667 Batch_id=390 Accuracy=76.85: 100%|██████████| 391/391 [00:16<00:00, 24.27it/s]\n"
          ]
        },
        {
          "output_type": "stream",
          "name": "stdout",
          "text": [
            "\n",
            "Test set: Average loss: 0.0017, Accuracy: 46274/50000 (92.55%)\n",
            "\n",
            "EPOCH: 208\n"
          ]
        },
        {
          "output_type": "stream",
          "name": "stderr",
          "text": [
            "Loss=0.8080632090568542 Batch_id=390 Accuracy=77.00: 100%|██████████| 391/391 [00:16<00:00, 24.31it/s]\n"
          ]
        },
        {
          "output_type": "stream",
          "name": "stdout",
          "text": [
            "\n",
            "Test set: Average loss: 0.0018, Accuracy: 46150/50000 (92.30%)\n",
            "\n",
            "EPOCH: 209\n"
          ]
        },
        {
          "output_type": "stream",
          "name": "stderr",
          "text": [
            "Loss=0.7653270959854126 Batch_id=390 Accuracy=76.83: 100%|██████████| 391/391 [00:15<00:00, 24.58it/s]\n"
          ]
        },
        {
          "output_type": "stream",
          "name": "stdout",
          "text": [
            "\n",
            "Test set: Average loss: 0.0018, Accuracy: 46239/50000 (92.48%)\n",
            "\n",
            "EPOCH: 210\n"
          ]
        },
        {
          "output_type": "stream",
          "name": "stderr",
          "text": [
            "Loss=0.7076066732406616 Batch_id=390 Accuracy=76.96: 100%|██████████| 391/391 [00:16<00:00, 23.50it/s]\n"
          ]
        },
        {
          "output_type": "stream",
          "name": "stdout",
          "text": [
            "\n",
            "Test set: Average loss: 0.0018, Accuracy: 46141/50000 (92.28%)\n",
            "\n",
            "EPOCH: 211\n"
          ]
        },
        {
          "output_type": "stream",
          "name": "stderr",
          "text": [
            "Loss=0.6279639005661011 Batch_id=390 Accuracy=77.33: 100%|██████████| 391/391 [00:16<00:00, 23.34it/s]\n"
          ]
        },
        {
          "output_type": "stream",
          "name": "stdout",
          "text": [
            "\n",
            "Test set: Average loss: 0.0017, Accuracy: 46247/50000 (92.49%)\n",
            "\n",
            "EPOCH: 212\n"
          ]
        },
        {
          "output_type": "stream",
          "name": "stderr",
          "text": [
            "Loss=0.5969188809394836 Batch_id=390 Accuracy=77.07: 100%|██████████| 391/391 [00:16<00:00, 24.43it/s]\n"
          ]
        },
        {
          "output_type": "stream",
          "name": "stdout",
          "text": [
            "\n",
            "Test set: Average loss: 0.0017, Accuracy: 46170/50000 (92.34%)\n",
            "\n",
            "EPOCH: 213\n"
          ]
        },
        {
          "output_type": "stream",
          "name": "stderr",
          "text": [
            "Loss=0.6954144835472107 Batch_id=390 Accuracy=77.19: 100%|██████████| 391/391 [00:16<00:00, 24.39it/s]\n"
          ]
        },
        {
          "output_type": "stream",
          "name": "stdout",
          "text": [
            "\n",
            "Test set: Average loss: 0.0018, Accuracy: 46115/50000 (92.23%)\n",
            "\n",
            "EPOCH: 214\n"
          ]
        },
        {
          "output_type": "stream",
          "name": "stderr",
          "text": [
            "Loss=0.847141444683075 Batch_id=390 Accuracy=77.10: 100%|██████████| 391/391 [00:16<00:00, 23.21it/s]\n"
          ]
        },
        {
          "output_type": "stream",
          "name": "stdout",
          "text": [
            "\n",
            "Test set: Average loss: 0.0017, Accuracy: 46254/50000 (92.51%)\n",
            "\n",
            "EPOCH: 215\n"
          ]
        },
        {
          "output_type": "stream",
          "name": "stderr",
          "text": [
            "Loss=0.5628377199172974 Batch_id=390 Accuracy=77.43: 100%|██████████| 391/391 [00:15<00:00, 24.51it/s]\n"
          ]
        },
        {
          "output_type": "stream",
          "name": "stdout",
          "text": [
            "\n",
            "Test set: Average loss: 0.0017, Accuracy: 46416/50000 (92.83%)\n",
            "\n",
            "EPOCH: 216\n"
          ]
        },
        {
          "output_type": "stream",
          "name": "stderr",
          "text": [
            "Loss=0.6606123447418213 Batch_id=390 Accuracy=77.19: 100%|██████████| 391/391 [00:16<00:00, 23.91it/s]\n"
          ]
        },
        {
          "output_type": "stream",
          "name": "stdout",
          "text": [
            "\n",
            "Test set: Average loss: 0.0017, Accuracy: 46228/50000 (92.46%)\n",
            "\n",
            "EPOCH: 217\n"
          ]
        },
        {
          "output_type": "stream",
          "name": "stderr",
          "text": [
            "Loss=0.5389683246612549 Batch_id=390 Accuracy=77.08: 100%|██████████| 391/391 [00:16<00:00, 23.15it/s]\n"
          ]
        },
        {
          "output_type": "stream",
          "name": "stdout",
          "text": [
            "\n",
            "Test set: Average loss: 0.0017, Accuracy: 46317/50000 (92.63%)\n",
            "\n",
            "EPOCH: 218\n"
          ]
        },
        {
          "output_type": "stream",
          "name": "stderr",
          "text": [
            "Loss=0.7595714926719666 Batch_id=390 Accuracy=77.31: 100%|██████████| 391/391 [00:16<00:00, 24.29it/s]\n"
          ]
        },
        {
          "output_type": "stream",
          "name": "stdout",
          "text": [
            "\n",
            "Test set: Average loss: 0.0018, Accuracy: 46223/50000 (92.45%)\n",
            "\n",
            "EPOCH: 219\n"
          ]
        },
        {
          "output_type": "stream",
          "name": "stderr",
          "text": [
            "Loss=0.5007554888725281 Batch_id=390 Accuracy=77.26: 100%|██████████| 391/391 [00:16<00:00, 24.28it/s]\n"
          ]
        },
        {
          "output_type": "stream",
          "name": "stdout",
          "text": [
            "\n",
            "Test set: Average loss: 0.0017, Accuracy: 46355/50000 (92.71%)\n",
            "\n",
            "EPOCH: 220\n"
          ]
        },
        {
          "output_type": "stream",
          "name": "stderr",
          "text": [
            "Loss=0.6256223320960999 Batch_id=390 Accuracy=77.12: 100%|██████████| 391/391 [00:16<00:00, 24.34it/s]\n"
          ]
        },
        {
          "output_type": "stream",
          "name": "stdout",
          "text": [
            "\n",
            "Test set: Average loss: 0.0018, Accuracy: 46053/50000 (92.11%)\n",
            "\n",
            "EPOCH: 221\n"
          ]
        },
        {
          "output_type": "stream",
          "name": "stderr",
          "text": [
            "Loss=0.7060255408287048 Batch_id=390 Accuracy=77.21: 100%|██████████| 391/391 [00:17<00:00, 22.92it/s]\n"
          ]
        },
        {
          "output_type": "stream",
          "name": "stdout",
          "text": [
            "\n",
            "Test set: Average loss: 0.0017, Accuracy: 46528/50000 (93.06%)\n",
            "\n",
            "EPOCH: 222\n"
          ]
        },
        {
          "output_type": "stream",
          "name": "stderr",
          "text": [
            "Loss=0.6886699199676514 Batch_id=390 Accuracy=77.44: 100%|██████████| 391/391 [00:16<00:00, 24.30it/s]\n"
          ]
        },
        {
          "output_type": "stream",
          "name": "stdout",
          "text": [
            "\n",
            "Test set: Average loss: 0.0017, Accuracy: 46503/50000 (93.01%)\n",
            "\n",
            "EPOCH: 223\n"
          ]
        },
        {
          "output_type": "stream",
          "name": "stderr",
          "text": [
            "Loss=0.5021018981933594 Batch_id=390 Accuracy=77.20: 100%|██████████| 391/391 [00:16<00:00, 23.11it/s]\n"
          ]
        },
        {
          "output_type": "stream",
          "name": "stdout",
          "text": [
            "\n",
            "Test set: Average loss: 0.0017, Accuracy: 46423/50000 (92.85%)\n",
            "\n",
            "EPOCH: 224\n"
          ]
        },
        {
          "output_type": "stream",
          "name": "stderr",
          "text": [
            "Loss=0.5448404550552368 Batch_id=390 Accuracy=77.29: 100%|██████████| 391/391 [00:15<00:00, 24.46it/s]\n"
          ]
        },
        {
          "output_type": "stream",
          "name": "stdout",
          "text": [
            "\n",
            "Test set: Average loss: 0.0017, Accuracy: 46358/50000 (92.72%)\n",
            "\n",
            "EPOCH: 225\n"
          ]
        },
        {
          "output_type": "stream",
          "name": "stderr",
          "text": [
            "Loss=0.593082070350647 Batch_id=390 Accuracy=77.36: 100%|██████████| 391/391 [00:16<00:00, 24.28it/s]\n"
          ]
        },
        {
          "output_type": "stream",
          "name": "stdout",
          "text": [
            "\n",
            "Test set: Average loss: 0.0017, Accuracy: 46305/50000 (92.61%)\n",
            "\n",
            "EPOCH: 226\n"
          ]
        },
        {
          "output_type": "stream",
          "name": "stderr",
          "text": [
            "Loss=0.6156774759292603 Batch_id=390 Accuracy=77.35: 100%|██████████| 391/391 [00:16<00:00, 24.00it/s]\n"
          ]
        },
        {
          "output_type": "stream",
          "name": "stdout",
          "text": [
            "\n",
            "Test set: Average loss: 0.0017, Accuracy: 46288/50000 (92.58%)\n",
            "\n",
            "EPOCH: 227\n"
          ]
        },
        {
          "output_type": "stream",
          "name": "stderr",
          "text": [
            "Loss=0.6779330968856812 Batch_id=390 Accuracy=77.23: 100%|██████████| 391/391 [00:16<00:00, 24.32it/s]\n"
          ]
        },
        {
          "output_type": "stream",
          "name": "stdout",
          "text": [
            "\n",
            "Test set: Average loss: 0.0016, Accuracy: 46522/50000 (93.04%)\n",
            "\n",
            "EPOCH: 228\n"
          ]
        },
        {
          "output_type": "stream",
          "name": "stderr",
          "text": [
            "Loss=0.5251734852790833 Batch_id=390 Accuracy=77.35: 100%|██████████| 391/391 [00:16<00:00, 24.40it/s]\n"
          ]
        },
        {
          "output_type": "stream",
          "name": "stdout",
          "text": [
            "\n",
            "Test set: Average loss: 0.0017, Accuracy: 46342/50000 (92.68%)\n",
            "\n",
            "EPOCH: 229\n"
          ]
        },
        {
          "output_type": "stream",
          "name": "stderr",
          "text": [
            "Loss=0.7745047807693481 Batch_id=390 Accuracy=77.45: 100%|██████████| 391/391 [00:17<00:00, 22.58it/s]\n"
          ]
        },
        {
          "output_type": "stream",
          "name": "stdout",
          "text": [
            "\n",
            "Test set: Average loss: 0.0016, Accuracy: 46504/50000 (93.01%)\n",
            "\n",
            "EPOCH: 230\n"
          ]
        },
        {
          "output_type": "stream",
          "name": "stderr",
          "text": [
            "Loss=0.5699640512466431 Batch_id=390 Accuracy=77.09: 100%|██████████| 391/391 [00:16<00:00, 23.95it/s]\n"
          ]
        },
        {
          "output_type": "stream",
          "name": "stdout",
          "text": [
            "\n",
            "Test set: Average loss: 0.0016, Accuracy: 46510/50000 (93.02%)\n",
            "\n",
            "EPOCH: 231\n"
          ]
        },
        {
          "output_type": "stream",
          "name": "stderr",
          "text": [
            "Loss=0.537493884563446 Batch_id=390 Accuracy=77.49: 100%|██████████| 391/391 [00:16<00:00, 24.23it/s]\n"
          ]
        },
        {
          "output_type": "stream",
          "name": "stdout",
          "text": [
            "\n",
            "Test set: Average loss: 0.0016, Accuracy: 46491/50000 (92.98%)\n",
            "\n",
            "EPOCH: 232\n"
          ]
        },
        {
          "output_type": "stream",
          "name": "stderr",
          "text": [
            "Loss=0.5917213559150696 Batch_id=390 Accuracy=77.40: 100%|██████████| 391/391 [00:16<00:00, 24.19it/s]\n"
          ]
        },
        {
          "output_type": "stream",
          "name": "stdout",
          "text": [
            "\n",
            "Test set: Average loss: 0.0016, Accuracy: 46502/50000 (93.00%)\n",
            "\n",
            "EPOCH: 233\n"
          ]
        },
        {
          "output_type": "stream",
          "name": "stderr",
          "text": [
            "Loss=0.9038200378417969 Batch_id=390 Accuracy=77.56: 100%|██████████| 391/391 [00:16<00:00, 24.17it/s]\n"
          ]
        },
        {
          "output_type": "stream",
          "name": "stdout",
          "text": [
            "\n",
            "Test set: Average loss: 0.0017, Accuracy: 46424/50000 (92.85%)\n",
            "\n",
            "EPOCH: 234\n"
          ]
        },
        {
          "output_type": "stream",
          "name": "stderr",
          "text": [
            "Loss=0.6395286321640015 Batch_id=390 Accuracy=77.50: 100%|██████████| 391/391 [00:16<00:00, 23.94it/s]\n"
          ]
        },
        {
          "output_type": "stream",
          "name": "stdout",
          "text": [
            "\n",
            "Test set: Average loss: 0.0016, Accuracy: 46500/50000 (93.00%)\n",
            "\n",
            "EPOCH: 235\n"
          ]
        },
        {
          "output_type": "stream",
          "name": "stderr",
          "text": [
            "Loss=0.5972049832344055 Batch_id=390 Accuracy=77.79: 100%|██████████| 391/391 [00:16<00:00, 24.00it/s]\n"
          ]
        },
        {
          "output_type": "stream",
          "name": "stdout",
          "text": [
            "\n",
            "Test set: Average loss: 0.0016, Accuracy: 46465/50000 (92.93%)\n",
            "\n",
            "EPOCH: 236\n"
          ]
        },
        {
          "output_type": "stream",
          "name": "stderr",
          "text": [
            "Loss=0.5507210493087769 Batch_id=390 Accuracy=77.52: 100%|██████████| 391/391 [00:17<00:00, 22.78it/s]\n"
          ]
        },
        {
          "output_type": "stream",
          "name": "stdout",
          "text": [
            "\n",
            "Test set: Average loss: 0.0016, Accuracy: 46574/50000 (93.15%)\n",
            "\n",
            "EPOCH: 237\n"
          ]
        },
        {
          "output_type": "stream",
          "name": "stderr",
          "text": [
            "Loss=0.5540774464607239 Batch_id=390 Accuracy=77.62: 100%|██████████| 391/391 [00:16<00:00, 23.97it/s]\n"
          ]
        },
        {
          "output_type": "stream",
          "name": "stdout",
          "text": [
            "\n",
            "Test set: Average loss: 0.0016, Accuracy: 46609/50000 (93.22%)\n",
            "\n",
            "EPOCH: 238\n"
          ]
        },
        {
          "output_type": "stream",
          "name": "stderr",
          "text": [
            "Loss=0.5781146883964539 Batch_id=390 Accuracy=77.27: 100%|██████████| 391/391 [00:16<00:00, 24.28it/s]\n"
          ]
        },
        {
          "output_type": "stream",
          "name": "stdout",
          "text": [
            "\n",
            "Test set: Average loss: 0.0016, Accuracy: 46544/50000 (93.09%)\n",
            "\n",
            "EPOCH: 239\n"
          ]
        },
        {
          "output_type": "stream",
          "name": "stderr",
          "text": [
            "Loss=0.6708486080169678 Batch_id=390 Accuracy=77.48: 100%|██████████| 391/391 [00:16<00:00, 23.64it/s]\n"
          ]
        },
        {
          "output_type": "stream",
          "name": "stdout",
          "text": [
            "\n",
            "Test set: Average loss: 0.0017, Accuracy: 46470/50000 (92.94%)\n",
            "\n",
            "EPOCH: 240\n"
          ]
        },
        {
          "output_type": "stream",
          "name": "stderr",
          "text": [
            "Loss=0.7169554233551025 Batch_id=390 Accuracy=77.67: 100%|██████████| 391/391 [00:16<00:00, 23.77it/s]\n"
          ]
        },
        {
          "output_type": "stream",
          "name": "stdout",
          "text": [
            "\n",
            "Test set: Average loss: 0.0017, Accuracy: 46394/50000 (92.79%)\n",
            "\n",
            "EPOCH: 241\n"
          ]
        },
        {
          "output_type": "stream",
          "name": "stderr",
          "text": [
            "Loss=0.6052605509757996 Batch_id=390 Accuracy=77.80: 100%|██████████| 391/391 [00:16<00:00, 24.22it/s]\n"
          ]
        },
        {
          "output_type": "stream",
          "name": "stdout",
          "text": [
            "\n",
            "Test set: Average loss: 0.0016, Accuracy: 46429/50000 (92.86%)\n",
            "\n",
            "EPOCH: 242\n"
          ]
        },
        {
          "output_type": "stream",
          "name": "stderr",
          "text": [
            "Loss=0.7408695220947266 Batch_id=390 Accuracy=77.53: 100%|██████████| 391/391 [00:16<00:00, 23.40it/s]\n"
          ]
        },
        {
          "output_type": "stream",
          "name": "stdout",
          "text": [
            "\n",
            "Test set: Average loss: 0.0016, Accuracy: 46594/50000 (93.19%)\n",
            "\n",
            "EPOCH: 243\n"
          ]
        },
        {
          "output_type": "stream",
          "name": "stderr",
          "text": [
            "Loss=0.44355249404907227 Batch_id=390 Accuracy=77.51: 100%|██████████| 391/391 [00:17<00:00, 22.77it/s]\n"
          ]
        },
        {
          "output_type": "stream",
          "name": "stdout",
          "text": [
            "\n",
            "Test set: Average loss: 0.0016, Accuracy: 46614/50000 (93.23%)\n",
            "\n",
            "EPOCH: 244\n"
          ]
        },
        {
          "output_type": "stream",
          "name": "stderr",
          "text": [
            "Loss=0.6816498041152954 Batch_id=390 Accuracy=77.69: 100%|██████████| 391/391 [00:16<00:00, 23.92it/s]\n"
          ]
        },
        {
          "output_type": "stream",
          "name": "stdout",
          "text": [
            "\n",
            "Test set: Average loss: 0.0016, Accuracy: 46551/50000 (93.10%)\n",
            "\n",
            "EPOCH: 245\n"
          ]
        },
        {
          "output_type": "stream",
          "name": "stderr",
          "text": [
            "Loss=0.6189519166946411 Batch_id=390 Accuracy=77.78: 100%|██████████| 391/391 [00:16<00:00, 24.21it/s]\n"
          ]
        },
        {
          "output_type": "stream",
          "name": "stdout",
          "text": [
            "\n",
            "Test set: Average loss: 0.0016, Accuracy: 46503/50000 (93.01%)\n",
            "\n",
            "EPOCH: 246\n"
          ]
        },
        {
          "output_type": "stream",
          "name": "stderr",
          "text": [
            "Loss=0.8104003071784973 Batch_id=390 Accuracy=77.42: 100%|██████████| 391/391 [00:16<00:00, 23.93it/s]\n"
          ]
        },
        {
          "output_type": "stream",
          "name": "stdout",
          "text": [
            "\n",
            "Test set: Average loss: 0.0016, Accuracy: 46529/50000 (93.06%)\n",
            "\n",
            "EPOCH: 247\n"
          ]
        },
        {
          "output_type": "stream",
          "name": "stderr",
          "text": [
            "Loss=0.5723305344581604 Batch_id=390 Accuracy=77.61: 100%|██████████| 391/391 [00:16<00:00, 23.84it/s]\n"
          ]
        },
        {
          "output_type": "stream",
          "name": "stdout",
          "text": [
            "\n",
            "Test set: Average loss: 0.0016, Accuracy: 46648/50000 (93.30%)\n",
            "\n",
            "EPOCH: 248\n"
          ]
        },
        {
          "output_type": "stream",
          "name": "stderr",
          "text": [
            "Loss=0.7141673564910889 Batch_id=390 Accuracy=77.73: 100%|██████████| 391/391 [00:16<00:00, 24.00it/s]\n"
          ]
        },
        {
          "output_type": "stream",
          "name": "stdout",
          "text": [
            "\n",
            "Test set: Average loss: 0.0016, Accuracy: 46609/50000 (93.22%)\n",
            "\n",
            "EPOCH: 249\n"
          ]
        },
        {
          "output_type": "stream",
          "name": "stderr",
          "text": [
            "Loss=0.5711113214492798 Batch_id=390 Accuracy=77.90: 100%|██████████| 391/391 [00:17<00:00, 22.91it/s]\n"
          ]
        },
        {
          "output_type": "stream",
          "name": "stdout",
          "text": [
            "\n",
            "Test set: Average loss: 0.0016, Accuracy: 46639/50000 (93.28%)\n",
            "\n",
            "EPOCH: 250\n"
          ]
        },
        {
          "output_type": "stream",
          "name": "stderr",
          "text": [
            "Loss=0.7913500666618347 Batch_id=390 Accuracy=77.75: 100%|██████████| 391/391 [00:16<00:00, 23.20it/s]\n"
          ]
        },
        {
          "output_type": "stream",
          "name": "stdout",
          "text": [
            "\n",
            "Test set: Average loss: 0.0016, Accuracy: 46576/50000 (93.15%)\n",
            "\n",
            "EPOCH: 251\n"
          ]
        },
        {
          "output_type": "stream",
          "name": "stderr",
          "text": [
            "Loss=0.43910664319992065 Batch_id=390 Accuracy=77.92: 100%|██████████| 391/391 [00:17<00:00, 22.40it/s]\n"
          ]
        },
        {
          "output_type": "stream",
          "name": "stdout",
          "text": [
            "\n",
            "Test set: Average loss: 0.0016, Accuracy: 46520/50000 (93.04%)\n",
            "\n",
            "EPOCH: 252\n"
          ]
        },
        {
          "output_type": "stream",
          "name": "stderr",
          "text": [
            "Loss=0.5780870318412781 Batch_id=390 Accuracy=77.77: 100%|██████████| 391/391 [00:16<00:00, 23.69it/s]\n"
          ]
        },
        {
          "output_type": "stream",
          "name": "stdout",
          "text": [
            "\n",
            "Test set: Average loss: 0.0016, Accuracy: 46575/50000 (93.15%)\n",
            "\n",
            "EPOCH: 253\n"
          ]
        },
        {
          "output_type": "stream",
          "name": "stderr",
          "text": [
            "Loss=0.4423182010650635 Batch_id=390 Accuracy=77.88: 100%|██████████| 391/391 [00:16<00:00, 23.93it/s]\n"
          ]
        },
        {
          "output_type": "stream",
          "name": "stdout",
          "text": [
            "\n",
            "Test set: Average loss: 0.0016, Accuracy: 46514/50000 (93.03%)\n",
            "\n",
            "EPOCH: 254\n"
          ]
        },
        {
          "output_type": "stream",
          "name": "stderr",
          "text": [
            "Loss=0.632371723651886 Batch_id=390 Accuracy=77.70: 100%|██████████| 391/391 [00:16<00:00, 23.85it/s]\n"
          ]
        },
        {
          "output_type": "stream",
          "name": "stdout",
          "text": [
            "\n",
            "Test set: Average loss: 0.0016, Accuracy: 46575/50000 (93.15%)\n",
            "\n",
            "EPOCH: 255\n"
          ]
        },
        {
          "output_type": "stream",
          "name": "stderr",
          "text": [
            "Loss=0.49291443824768066 Batch_id=390 Accuracy=77.71: 100%|██████████| 391/391 [00:16<00:00, 23.60it/s]\n"
          ]
        },
        {
          "output_type": "stream",
          "name": "stdout",
          "text": [
            "\n",
            "Test set: Average loss: 0.0016, Accuracy: 46565/50000 (93.13%)\n",
            "\n",
            "EPOCH: 256\n"
          ]
        },
        {
          "output_type": "stream",
          "name": "stderr",
          "text": [
            "Loss=0.7908617854118347 Batch_id=390 Accuracy=77.98: 100%|██████████| 391/391 [00:16<00:00, 23.65it/s]\n"
          ]
        },
        {
          "output_type": "stream",
          "name": "stdout",
          "text": [
            "\n",
            "Test set: Average loss: 0.0015, Accuracy: 46729/50000 (93.46%)\n",
            "\n",
            "EPOCH: 257\n"
          ]
        },
        {
          "output_type": "stream",
          "name": "stderr",
          "text": [
            "Loss=0.7366854548454285 Batch_id=390 Accuracy=77.94: 100%|██████████| 391/391 [00:17<00:00, 22.63it/s]\n"
          ]
        },
        {
          "output_type": "stream",
          "name": "stdout",
          "text": [
            "\n",
            "Test set: Average loss: 0.0016, Accuracy: 46690/50000 (93.38%)\n",
            "\n",
            "EPOCH: 258\n"
          ]
        },
        {
          "output_type": "stream",
          "name": "stderr",
          "text": [
            "Loss=0.6634088754653931 Batch_id=390 Accuracy=78.03: 100%|██████████| 391/391 [00:17<00:00, 22.96it/s]\n"
          ]
        },
        {
          "output_type": "stream",
          "name": "stdout",
          "text": [
            "\n",
            "Test set: Average loss: 0.0015, Accuracy: 46693/50000 (93.39%)\n",
            "\n",
            "EPOCH: 259\n"
          ]
        },
        {
          "output_type": "stream",
          "name": "stderr",
          "text": [
            "Loss=0.6369541883468628 Batch_id=390 Accuracy=77.56: 100%|██████████| 391/391 [00:16<00:00, 23.65it/s]\n"
          ]
        },
        {
          "output_type": "stream",
          "name": "stdout",
          "text": [
            "\n",
            "Test set: Average loss: 0.0015, Accuracy: 46763/50000 (93.53%)\n",
            "\n",
            "EPOCH: 260\n"
          ]
        },
        {
          "output_type": "stream",
          "name": "stderr",
          "text": [
            "Loss=0.6409789323806763 Batch_id=390 Accuracy=77.87: 100%|██████████| 391/391 [00:16<00:00, 23.81it/s]\n"
          ]
        },
        {
          "output_type": "stream",
          "name": "stdout",
          "text": [
            "\n",
            "Test set: Average loss: 0.0016, Accuracy: 46544/50000 (93.09%)\n",
            "\n",
            "EPOCH: 261\n"
          ]
        },
        {
          "output_type": "stream",
          "name": "stderr",
          "text": [
            "Loss=0.7334631681442261 Batch_id=390 Accuracy=77.89: 100%|██████████| 391/391 [00:16<00:00, 23.63it/s]\n"
          ]
        },
        {
          "output_type": "stream",
          "name": "stdout",
          "text": [
            "\n",
            "Test set: Average loss: 0.0015, Accuracy: 46690/50000 (93.38%)\n",
            "\n",
            "EPOCH: 262\n"
          ]
        },
        {
          "output_type": "stream",
          "name": "stderr",
          "text": [
            "Loss=0.6846102476119995 Batch_id=390 Accuracy=77.67: 100%|██████████| 391/391 [00:16<00:00, 23.50it/s]\n"
          ]
        },
        {
          "output_type": "stream",
          "name": "stdout",
          "text": [
            "\n",
            "Test set: Average loss: 0.0015, Accuracy: 46796/50000 (93.59%)\n",
            "\n",
            "EPOCH: 263\n"
          ]
        },
        {
          "output_type": "stream",
          "name": "stderr",
          "text": [
            "Loss=0.6017394065856934 Batch_id=390 Accuracy=77.91: 100%|██████████| 391/391 [00:16<00:00, 23.65it/s]\n"
          ]
        },
        {
          "output_type": "stream",
          "name": "stdout",
          "text": [
            "\n",
            "Test set: Average loss: 0.0016, Accuracy: 46621/50000 (93.24%)\n",
            "\n",
            "EPOCH: 264\n"
          ]
        },
        {
          "output_type": "stream",
          "name": "stderr",
          "text": [
            "Loss=0.5031746029853821 Batch_id=390 Accuracy=78.00: 100%|██████████| 391/391 [00:16<00:00, 23.27it/s]\n"
          ]
        },
        {
          "output_type": "stream",
          "name": "stdout",
          "text": [
            "\n",
            "Test set: Average loss: 0.0015, Accuracy: 46755/50000 (93.51%)\n",
            "\n",
            "EPOCH: 265\n"
          ]
        },
        {
          "output_type": "stream",
          "name": "stderr",
          "text": [
            "Loss=0.7877540588378906 Batch_id=390 Accuracy=78.17: 100%|██████████| 391/391 [00:17<00:00, 22.54it/s]\n"
          ]
        },
        {
          "output_type": "stream",
          "name": "stdout",
          "text": [
            "\n",
            "Test set: Average loss: 0.0015, Accuracy: 46781/50000 (93.56%)\n",
            "\n",
            "EPOCH: 266\n"
          ]
        },
        {
          "output_type": "stream",
          "name": "stderr",
          "text": [
            "Loss=0.5258637070655823 Batch_id=390 Accuracy=78.07: 100%|██████████| 391/391 [00:17<00:00, 22.47it/s]\n"
          ]
        },
        {
          "output_type": "stream",
          "name": "stdout",
          "text": [
            "\n",
            "Test set: Average loss: 0.0015, Accuracy: 46850/50000 (93.70%)\n",
            "\n",
            "EPOCH: 267\n"
          ]
        },
        {
          "output_type": "stream",
          "name": "stderr",
          "text": [
            "Loss=0.5075405240058899 Batch_id=390 Accuracy=78.12: 100%|██████████| 391/391 [00:16<00:00, 23.98it/s]\n"
          ]
        },
        {
          "output_type": "stream",
          "name": "stdout",
          "text": [
            "\n",
            "Test set: Average loss: 0.0015, Accuracy: 46877/50000 (93.75%)\n",
            "\n",
            "EPOCH: 268\n"
          ]
        },
        {
          "output_type": "stream",
          "name": "stderr",
          "text": [
            "Loss=0.620468020439148 Batch_id=390 Accuracy=78.04: 100%|██████████| 391/391 [00:16<00:00, 23.74it/s]\n"
          ]
        },
        {
          "output_type": "stream",
          "name": "stdout",
          "text": [
            "\n",
            "Test set: Average loss: 0.0015, Accuracy: 46738/50000 (93.48%)\n",
            "\n",
            "EPOCH: 269\n"
          ]
        },
        {
          "output_type": "stream",
          "name": "stderr",
          "text": [
            "Loss=0.9373294115066528 Batch_id=390 Accuracy=78.12: 100%|██████████| 391/391 [00:16<00:00, 23.74it/s]\n"
          ]
        },
        {
          "output_type": "stream",
          "name": "stdout",
          "text": [
            "\n",
            "Test set: Average loss: 0.0015, Accuracy: 46757/50000 (93.51%)\n",
            "\n",
            "EPOCH: 270\n"
          ]
        },
        {
          "output_type": "stream",
          "name": "stderr",
          "text": [
            "Loss=0.547497034072876 Batch_id=390 Accuracy=77.99: 100%|██████████| 391/391 [00:16<00:00, 23.72it/s]\n"
          ]
        },
        {
          "output_type": "stream",
          "name": "stdout",
          "text": [
            "\n",
            "Test set: Average loss: 0.0015, Accuracy: 46846/50000 (93.69%)\n",
            "\n",
            "EPOCH: 271\n"
          ]
        },
        {
          "output_type": "stream",
          "name": "stderr",
          "text": [
            "Loss=0.8112014532089233 Batch_id=390 Accuracy=78.07: 100%|██████████| 391/391 [00:16<00:00, 23.51it/s]\n"
          ]
        },
        {
          "output_type": "stream",
          "name": "stdout",
          "text": [
            "\n",
            "Test set: Average loss: 0.0015, Accuracy: 46904/50000 (93.81%)\n",
            "\n",
            "EPOCH: 272\n"
          ]
        },
        {
          "output_type": "stream",
          "name": "stderr",
          "text": [
            "Loss=0.6584229469299316 Batch_id=390 Accuracy=78.23: 100%|██████████| 391/391 [00:16<00:00, 23.26it/s]\n"
          ]
        },
        {
          "output_type": "stream",
          "name": "stdout",
          "text": [
            "\n",
            "Test set: Average loss: 0.0015, Accuracy: 46730/50000 (93.46%)\n",
            "\n",
            "EPOCH: 273\n"
          ]
        },
        {
          "output_type": "stream",
          "name": "stderr",
          "text": [
            "Loss=0.6587041020393372 Batch_id=390 Accuracy=77.90: 100%|██████████| 391/391 [00:18<00:00, 21.29it/s]\n"
          ]
        },
        {
          "output_type": "stream",
          "name": "stdout",
          "text": [
            "\n",
            "Test set: Average loss: 0.0015, Accuracy: 46833/50000 (93.67%)\n",
            "\n",
            "EPOCH: 274\n"
          ]
        },
        {
          "output_type": "stream",
          "name": "stderr",
          "text": [
            "Loss=0.5143066644668579 Batch_id=390 Accuracy=77.87: 100%|██████████| 391/391 [00:16<00:00, 23.39it/s]\n"
          ]
        },
        {
          "output_type": "stream",
          "name": "stdout",
          "text": [
            "\n",
            "Test set: Average loss: 0.0015, Accuracy: 46898/50000 (93.80%)\n",
            "\n",
            "EPOCH: 275\n"
          ]
        },
        {
          "output_type": "stream",
          "name": "stderr",
          "text": [
            "Loss=0.6776184439659119 Batch_id=390 Accuracy=78.16: 100%|██████████| 391/391 [00:16<00:00, 23.48it/s]\n"
          ]
        },
        {
          "output_type": "stream",
          "name": "stdout",
          "text": [
            "\n",
            "Test set: Average loss: 0.0015, Accuracy: 46817/50000 (93.63%)\n",
            "\n",
            "EPOCH: 276\n"
          ]
        },
        {
          "output_type": "stream",
          "name": "stderr",
          "text": [
            "Loss=0.560144305229187 Batch_id=390 Accuracy=78.09: 100%|██████████| 391/391 [00:16<00:00, 23.60it/s]\n"
          ]
        },
        {
          "output_type": "stream",
          "name": "stdout",
          "text": [
            "\n",
            "Test set: Average loss: 0.0015, Accuracy: 46928/50000 (93.86%)\n",
            "\n",
            "EPOCH: 277\n"
          ]
        },
        {
          "output_type": "stream",
          "name": "stderr",
          "text": [
            "Loss=0.6408539414405823 Batch_id=390 Accuracy=78.30: 100%|██████████| 391/391 [00:16<00:00, 23.55it/s]\n"
          ]
        },
        {
          "output_type": "stream",
          "name": "stdout",
          "text": [
            "\n",
            "Test set: Average loss: 0.0015, Accuracy: 46744/50000 (93.49%)\n",
            "\n",
            "EPOCH: 278\n"
          ]
        },
        {
          "output_type": "stream",
          "name": "stderr",
          "text": [
            "Loss=0.5557506680488586 Batch_id=390 Accuracy=78.21: 100%|██████████| 391/391 [00:16<00:00, 23.45it/s]\n"
          ]
        },
        {
          "output_type": "stream",
          "name": "stdout",
          "text": [
            "\n",
            "Test set: Average loss: 0.0015, Accuracy: 46751/50000 (93.50%)\n",
            "\n",
            "EPOCH: 279\n"
          ]
        },
        {
          "output_type": "stream",
          "name": "stderr",
          "text": [
            "Loss=0.8424654006958008 Batch_id=390 Accuracy=78.14: 100%|██████████| 391/391 [00:16<00:00, 23.44it/s]\n"
          ]
        },
        {
          "output_type": "stream",
          "name": "stdout",
          "text": [
            "\n",
            "Test set: Average loss: 0.0015, Accuracy: 46812/50000 (93.62%)\n",
            "\n",
            "EPOCH: 280\n"
          ]
        },
        {
          "output_type": "stream",
          "name": "stderr",
          "text": [
            "Loss=0.6238966584205627 Batch_id=390 Accuracy=78.37: 100%|██████████| 391/391 [00:16<00:00, 23.28it/s]\n"
          ]
        },
        {
          "output_type": "stream",
          "name": "stdout",
          "text": [
            "\n",
            "Test set: Average loss: 0.0015, Accuracy: 46837/50000 (93.67%)\n",
            "\n",
            "EPOCH: 281\n"
          ]
        },
        {
          "output_type": "stream",
          "name": "stderr",
          "text": [
            "Loss=0.5320685505867004 Batch_id=390 Accuracy=78.28: 100%|██████████| 391/391 [00:18<00:00, 21.11it/s]\n"
          ]
        },
        {
          "output_type": "stream",
          "name": "stdout",
          "text": [
            "\n",
            "Test set: Average loss: 0.0015, Accuracy: 46803/50000 (93.61%)\n",
            "\n",
            "EPOCH: 282\n"
          ]
        },
        {
          "output_type": "stream",
          "name": "stderr",
          "text": [
            "Loss=0.5664175748825073 Batch_id=390 Accuracy=78.13: 100%|██████████| 391/391 [00:17<00:00, 22.50it/s]\n"
          ]
        },
        {
          "output_type": "stream",
          "name": "stdout",
          "text": [
            "\n",
            "Test set: Average loss: 0.0015, Accuracy: 46901/50000 (93.80%)\n",
            "\n",
            "EPOCH: 283\n"
          ]
        },
        {
          "output_type": "stream",
          "name": "stderr",
          "text": [
            "Loss=0.6337844729423523 Batch_id=390 Accuracy=78.11: 100%|██████████| 391/391 [00:17<00:00, 22.65it/s]\n"
          ]
        },
        {
          "output_type": "stream",
          "name": "stdout",
          "text": [
            "\n",
            "Test set: Average loss: 0.0015, Accuracy: 46888/50000 (93.78%)\n",
            "\n",
            "EPOCH: 284\n"
          ]
        },
        {
          "output_type": "stream",
          "name": "stderr",
          "text": [
            "Loss=0.7626987099647522 Batch_id=390 Accuracy=78.26: 100%|██████████| 391/391 [00:16<00:00, 23.72it/s]\n"
          ]
        },
        {
          "output_type": "stream",
          "name": "stdout",
          "text": [
            "\n",
            "Test set: Average loss: 0.0015, Accuracy: 46936/50000 (93.87%)\n",
            "\n",
            "EPOCH: 285\n"
          ]
        },
        {
          "output_type": "stream",
          "name": "stderr",
          "text": [
            "Loss=0.5536181330680847 Batch_id=390 Accuracy=78.03: 100%|██████████| 391/391 [00:16<00:00, 23.39it/s]\n"
          ]
        },
        {
          "output_type": "stream",
          "name": "stdout",
          "text": [
            "\n",
            "Test set: Average loss: 0.0014, Accuracy: 46979/50000 (93.96%)\n",
            "\n",
            "EPOCH: 286\n"
          ]
        },
        {
          "output_type": "stream",
          "name": "stderr",
          "text": [
            "Loss=0.5211615562438965 Batch_id=390 Accuracy=78.14: 100%|██████████| 391/391 [00:16<00:00, 23.47it/s]\n"
          ]
        },
        {
          "output_type": "stream",
          "name": "stdout",
          "text": [
            "\n",
            "Test set: Average loss: 0.0015, Accuracy: 46885/50000 (93.77%)\n",
            "\n",
            "EPOCH: 287\n"
          ]
        },
        {
          "output_type": "stream",
          "name": "stderr",
          "text": [
            "Loss=0.6968613266944885 Batch_id=390 Accuracy=78.02: 100%|██████████| 391/391 [00:16<00:00, 23.42it/s]\n"
          ]
        },
        {
          "output_type": "stream",
          "name": "stdout",
          "text": [
            "\n",
            "Test set: Average loss: 0.0015, Accuracy: 46863/50000 (93.73%)\n",
            "\n",
            "EPOCH: 288\n"
          ]
        },
        {
          "output_type": "stream",
          "name": "stderr",
          "text": [
            "Loss=0.5912972688674927 Batch_id=390 Accuracy=78.19: 100%|██████████| 391/391 [00:16<00:00, 23.37it/s]\n"
          ]
        },
        {
          "output_type": "stream",
          "name": "stdout",
          "text": [
            "\n",
            "Test set: Average loss: 0.0015, Accuracy: 46907/50000 (93.81%)\n",
            "\n",
            "EPOCH: 289\n"
          ]
        },
        {
          "output_type": "stream",
          "name": "stderr",
          "text": [
            "Loss=0.4554990828037262 Batch_id=390 Accuracy=78.30: 100%|██████████| 391/391 [00:16<00:00, 23.37it/s]\n"
          ]
        },
        {
          "output_type": "stream",
          "name": "stdout",
          "text": [
            "\n",
            "Test set: Average loss: 0.0015, Accuracy: 46677/50000 (93.35%)\n",
            "\n",
            "EPOCH: 290\n"
          ]
        },
        {
          "output_type": "stream",
          "name": "stderr",
          "text": [
            "Loss=0.6932679414749146 Batch_id=390 Accuracy=78.48: 100%|██████████| 391/391 [00:16<00:00, 23.28it/s]\n"
          ]
        },
        {
          "output_type": "stream",
          "name": "stdout",
          "text": [
            "\n",
            "Test set: Average loss: 0.0015, Accuracy: 46915/50000 (93.83%)\n",
            "\n",
            "EPOCH: 291\n"
          ]
        },
        {
          "output_type": "stream",
          "name": "stderr",
          "text": [
            "Loss=0.5505960583686829 Batch_id=390 Accuracy=78.39: 100%|██████████| 391/391 [00:17<00:00, 22.69it/s]\n"
          ]
        },
        {
          "output_type": "stream",
          "name": "stdout",
          "text": [
            "\n",
            "Test set: Average loss: 0.0014, Accuracy: 46958/50000 (93.92%)\n",
            "\n",
            "EPOCH: 292\n"
          ]
        },
        {
          "output_type": "stream",
          "name": "stderr",
          "text": [
            "Loss=0.5868149995803833 Batch_id=390 Accuracy=77.93: 100%|██████████| 391/391 [00:17<00:00, 22.23it/s]\n"
          ]
        },
        {
          "output_type": "stream",
          "name": "stdout",
          "text": [
            "\n",
            "Test set: Average loss: 0.0015, Accuracy: 46807/50000 (93.61%)\n",
            "\n",
            "EPOCH: 293\n"
          ]
        },
        {
          "output_type": "stream",
          "name": "stderr",
          "text": [
            "Loss=0.674118161201477 Batch_id=390 Accuracy=78.26: 100%|██████████| 391/391 [00:17<00:00, 22.36it/s]\n"
          ]
        },
        {
          "output_type": "stream",
          "name": "stdout",
          "text": [
            "\n",
            "Test set: Average loss: 0.0015, Accuracy: 46925/50000 (93.85%)\n",
            "\n",
            "EPOCH: 294\n"
          ]
        },
        {
          "output_type": "stream",
          "name": "stderr",
          "text": [
            "Loss=0.7092744708061218 Batch_id=390 Accuracy=78.37: 100%|██████████| 391/391 [00:16<00:00, 23.25it/s]\n"
          ]
        },
        {
          "output_type": "stream",
          "name": "stdout",
          "text": [
            "\n",
            "Test set: Average loss: 0.0014, Accuracy: 46975/50000 (93.95%)\n",
            "\n",
            "EPOCH: 295\n"
          ]
        },
        {
          "output_type": "stream",
          "name": "stderr",
          "text": [
            "Loss=0.45869630575180054 Batch_id=390 Accuracy=78.35: 100%|██████████| 391/391 [00:16<00:00, 23.14it/s]\n"
          ]
        },
        {
          "output_type": "stream",
          "name": "stdout",
          "text": [
            "\n",
            "Test set: Average loss: 0.0014, Accuracy: 46942/50000 (93.88%)\n",
            "\n",
            "EPOCH: 296\n"
          ]
        },
        {
          "output_type": "stream",
          "name": "stderr",
          "text": [
            "Loss=0.6513633131980896 Batch_id=390 Accuracy=78.32: 100%|██████████| 391/391 [00:17<00:00, 22.01it/s]\n"
          ]
        },
        {
          "output_type": "stream",
          "name": "stdout",
          "text": [
            "\n",
            "Test set: Average loss: 0.0015, Accuracy: 46822/50000 (93.64%)\n",
            "\n",
            "EPOCH: 297\n"
          ]
        },
        {
          "output_type": "stream",
          "name": "stderr",
          "text": [
            "Loss=0.7121884822845459 Batch_id=390 Accuracy=78.25: 100%|██████████| 391/391 [00:17<00:00, 23.00it/s]\n"
          ]
        },
        {
          "output_type": "stream",
          "name": "stdout",
          "text": [
            "\n",
            "Test set: Average loss: 0.0014, Accuracy: 47029/50000 (94.06%)\n",
            "\n",
            "EPOCH: 298\n"
          ]
        },
        {
          "output_type": "stream",
          "name": "stderr",
          "text": [
            "Loss=0.6097805500030518 Batch_id=390 Accuracy=78.54: 100%|██████████| 391/391 [00:17<00:00, 22.95it/s]\n"
          ]
        },
        {
          "output_type": "stream",
          "name": "stdout",
          "text": [
            "\n",
            "Test set: Average loss: 0.0015, Accuracy: 46924/50000 (93.85%)\n",
            "\n",
            "EPOCH: 299\n"
          ]
        },
        {
          "output_type": "stream",
          "name": "stderr",
          "text": [
            "Loss=0.727354109287262 Batch_id=390 Accuracy=78.05: 100%|██████████| 391/391 [00:16<00:00, 23.16it/s]\n"
          ]
        },
        {
          "output_type": "stream",
          "name": "stdout",
          "text": [
            "\n",
            "Test set: Average loss: 0.0014, Accuracy: 46933/50000 (93.87%)\n",
            "\n"
          ]
        }
      ]
    },
    {
      "cell_type": "markdown",
      "metadata": {
        "id": "2LUt4j5rewiI"
      },
      "source": [
        "# Let's Train and test our models\n"
      ]
    },
    {
      "cell_type": "code",
      "metadata": {
        "colab": {
          "base_uri": "https://localhost:8080/",
          "height": 321
        },
        "id": "OdUF89lVeWWM",
        "outputId": "780bd339-d076-463e-9e0c-3c16f51061bb"
      },
      "source": [
        "test_losses = [t.item() for t in test_losses]\n",
        "plot_metrics([train_acc,train_losses, test_acc,test_losses])"
      ],
      "execution_count": 18,
      "outputs": [
        {
          "output_type": "display_data",
          "data": {
            "text/plain": [
              "<Figure size 2500x600 with 2 Axes>"
            ],
            "image/png": "[encoded data removed]"
          },
          "metadata": {}
        }
      ]
    },
    {
      "cell_type": "code",
      "source": [
        "classes = ('0','1','2','3','4','5','6','7','8','9')\n",
        "classes = ('plane', 'car', 'bird', 'cat',\n",
        "           'deer', 'dog', 'frog', 'horse', 'ship', 'truck')\n",
        "\n",
        "\n",
        "model = Net().to(device)\n",
        "model.eval()\n",
        "\n",
        "figure = plt.figure(figsize=(20, 20))\n",
        "num_of_images = 20\n",
        "index = 1\n",
        "\n",
        "misclass_img_list = []\n",
        "untrans_img=[]\n",
        "\n",
        "with torch.no_grad():\n",
        "\n",
        "    for data, target in testloader:\n",
        "        data, target = data.to(\n",
        "            device), target.to(device)\n",
        "        output = model(data)\n",
        "        pred = output.argmax(dim=1, keepdim=True)\n",
        "        act = target.view_as(pred)\n",
        "        # since most of the bool vec is true (good problem to have) and switch (flip) the true to false and vice versa\n",
        "        bool_vec = ~pred.eq(act)\n",
        "\n",
        "        # now extract the index number from the tensor which has 'true'\n",
        "        idx = list(\n",
        "            np.where(bool_vec.cpu().numpy())[0])\n",
        "\n",
        "        if idx:  # if not a blank list\n",
        "            idx_list = idx\n",
        "            # print(data[idx_list[0]].shape)\n",
        "            if index < num_of_images+1:\n",
        "                plt.subplot(4, 5, index)\n",
        "                plt.axis('off')\n",
        "                a = classes[target[idx[0]].cpu().item()]\n",
        "                p = classes[pred[idx[0]].cpu().item()]\n",
        "                titl = f\"Pred label: {p}\\n True label: {a}\" # title of plot\n",
        "                # prints the 1st index of each batch.\n",
        "\n",
        "                img = data[idx[0]].cpu()\n",
        "                img = img.squeeze().numpy()\n",
        "                untrans_img.append(img)\n",
        "                img = np.transpose(img, (1, 2, 0))\n",
        "                image = plt.imshow(img, cmap=\"gray\") # showing the plot\n",
        "                misclass_img_list.append(image)\n",
        "\n",
        "                plt.title(titl)\n",
        "                index += 1"
      ],
      "metadata": {
        "colab": {
          "base_uri": "https://localhost:8080/",
          "height": 1000
        },
        "id": "p28qEZIwWVJ4",
        "outputId": "3c519eaa-9859-48a6-f3ed-7083cc2beec8"
      },
      "execution_count": 11,
      "outputs": [
        {
          "output_type": "stream",
          "name": "stderr",
          "text": [
            "WARNING:matplotlib.image:Clipping input data to the valid range for imshow with RGB data ([0..1] for floats or [0..255] for integers).\n",
            "WARNING:matplotlib.image:Clipping input data to the valid range for imshow with RGB data ([0..1] for floats or [0..255] for integers).\n",
            "WARNING:matplotlib.image:Clipping input data to the valid range for imshow with RGB data ([0..1] for floats or [0..255] for integers).\n",
            "WARNING:matplotlib.image:Clipping input data to the valid range for imshow with RGB data ([0..1] for floats or [0..255] for integers).\n",
            "WARNING:matplotlib.image:Clipping input data to the valid range for imshow with RGB data ([0..1] for floats or [0..255] for integers).\n",
            "WARNING:matplotlib.image:Clipping input data to the valid range for imshow with RGB data ([0..1] for floats or [0..255] for integers).\n",
            "WARNING:matplotlib.image:Clipping input data to the valid range for imshow with RGB data ([0..1] for floats or [0..255] for integers).\n",
            "WARNING:matplotlib.image:Clipping input data to the valid range for imshow with RGB data ([0..1] for floats or [0..255] for integers).\n",
            "WARNING:matplotlib.image:Clipping input data to the valid range for imshow with RGB data ([0..1] for floats or [0..255] for integers).\n",
            "WARNING:matplotlib.image:Clipping input data to the valid range for imshow with RGB data ([0..1] for floats or [0..255] for integers).\n",
            "WARNING:matplotlib.image:Clipping input data to the valid range for imshow with RGB data ([0..1] for floats or [0..255] for integers).\n",
            "WARNING:matplotlib.image:Clipping input data to the valid range for imshow with RGB data ([0..1] for floats or [0..255] for integers).\n",
            "WARNING:matplotlib.image:Clipping input data to the valid range for imshow with RGB data ([0..1] for floats or [0..255] for integers).\n",
            "WARNING:matplotlib.image:Clipping input data to the valid range for imshow with RGB data ([0..1] for floats or [0..255] for integers).\n",
            "WARNING:matplotlib.image:Clipping input data to the valid range for imshow with RGB data ([0..1] for floats or [0..255] for integers).\n",
            "WARNING:matplotlib.image:Clipping input data to the valid range for imshow with RGB data ([0..1] for floats or [0..255] for integers).\n",
            "WARNING:matplotlib.image:Clipping input data to the valid range for imshow with RGB data ([0..1] for floats or [0..255] for integers).\n",
            "WARNING:matplotlib.image:Clipping input data to the valid range for imshow with RGB data ([0..1] for floats or [0..255] for integers).\n",
            "WARNING:matplotlib.image:Clipping input data to the valid range for imshow with RGB data ([0..1] for floats or [0..255] for integers).\n",
            "WARNING:matplotlib.image:Clipping input data to the valid range for imshow with RGB data ([0..1] for floats or [0..255] for integers).\n"
          ]
        },
        {
          "output_type": "display_data",
          "data": {
            "text/plain": [
              "<Figure size 2000x2000 with 20 Axes>"
            ],
            "image/png": "[encoded data removed]"
          },
          "metadata": {}
        }
      ]
    }
  ]
}